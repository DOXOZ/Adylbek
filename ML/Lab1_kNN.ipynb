{
 "cells": [
  {
   "cell_type": "markdown",
   "id": "405f7a4d",
   "metadata": {},
   "source": [
    "Atalov S.\n",
    "\n",
    "### Fundamentals of Machine Learning and Artificial Intelligence\n",
    "\n",
    "## Lab 1. kNN (5 points)\n",
    "\n",
    "-----"
   ]
  },
  {
   "cell_type": "markdown",
   "id": "cec14760",
   "metadata": {},
   "source": [
    "\n",
    "# Part 1: Calculating Euclidean Distance\n",
    "\n",
    "In this practice exercise, you will work on calculating the Euclidean distance between two points in multi-dimensional space. Euclidean distance is a fundamental concept in various fields, including machine learning, data analysis, and geometry.\n",
    "\n",
    "## Task 1: Implement the `euclidean_distance` Function\n",
    "\n",
    "You need to create a Python function named `euclidean_distance` that takes two numpy arrays as input, representing the coordinates of two points in multi-dimensional space. The function should calculate and return the Euclidean distance between these two points.\n",
    "\n",
    "**Instructions:**\n",
    "\n",
    "1. Implement the `euclidean_distance` function.\n",
    "2. Ensure that the function can handle points with different numbers of dimensions. If the two input points have different dimensions, raise a `ValueError`.\n",
    "3. Use numpy for efficient mathematical operations.\n",
    "4. Return the Euclidean distance as a float."
   ]
  },
  {
   "cell_type": "code",
   "execution_count": null,
   "id": "3afd4e99",
   "metadata": {},
   "outputs": [],
   "source": [
    "import numpy as np"
   ]
  },
  {
   "cell_type": "code",
   "execution_count": 185,
   "id": "147b972a",
   "metadata": {},
   "outputs": [],
   "source": [
    "def euclidean_distance(point1, point2):\n",
    "    \"\"\"\n",
    "    Calculate the Euclidean distance between two points in multi-dimensional space.\n",
    "\n",
    "    Args:\n",
    "    point1 (numpy.ndarray): The coordinates of the first point.\n",
    "    point2 (numpy.ndarray): The coordinates of the second point.\n",
    "\n",
    "    Returns:\n",
    "    float: The Euclidean distance between the two points.\n",
    "    \"\"\"\n",
    "    \n",
    "    if np.shape(point1) != np.shape(point2):\n",
    "        raise ValueError(\"Points must have the same number of dimensions\")\n",
    "    \n",
    "    \n",
    "    # write your solution\n",
    "    euclidean_dist = np.linalg.norm(point1 -point2)\n",
    "    return euclidean_dist"
   ]
  },
  {
   "cell_type": "markdown",
   "id": "37ad28f8",
   "metadata": {},
   "source": [
    "## Task 2: Test Your Function\n",
    "\n",
    "Test the `euclidean_distance` function with multiple test cases to ensure its correctness. Make sure to compare the calculated distances with the expected values."
   ]
  },
  {
   "cell_type": "code",
   "execution_count": null,
   "id": "76792940",
   "metadata": {},
   "outputs": [],
   "source": [
    "# Test case 1: Euclidean distance in 2D space\n",
    "point1_2d = np.array([1, 2])\n",
    "point2_2d = np.array([4, 6])\n",
    "expected_distance_2d = 5.0\n",
    "calculated_distance_2d = euclidean_distance(point1_2d, point2_2d)\n",
    "assert np.isclose(calculated_distance_2d, expected_distance_2d), \"Test case 1 failed\"\n",
    "\n",
    "# Test case 2: Euclidean distance in 3D space\n",
    "point1_3d = np.array([1, 2, 3])\n",
    "point2_3d = np.array([4, 6, 9])\n",
    "expected_distance_3d = 7.81024\n",
    "calculated_distance_3d = euclidean_distance(point1_3d, point2_3d)\n",
    "assert np.isclose(calculated_distance_3d, expected_distance_3d), \"Test case 2 failed\"\n",
    "\n",
    "print(\"All test cases passed.\")"
   ]
  },
  {
   "cell_type": "markdown",
   "id": "9344565f",
   "metadata": {},
   "source": [
    "Understanding how to calculate Euclidean distance is essential for various applications in data analysis, machine learning. This practice exercise will help reinforce your understanding of this concept."
   ]
  },
  {
   "cell_type": "code",
   "execution_count": null,
   "id": "b96e5152",
   "metadata": {},
   "outputs": [],
   "source": []
  },
  {
   "cell_type": "markdown",
   "id": "d9b07362",
   "metadata": {},
   "source": [
    "---\n",
    "# Part 2: Implementing k-Nearest Neighbors (kNN) Classifier\n",
    "\n",
    "In this practice exercise, you will implement a k-Nearest Neighbors (kNN) classifier in Python. kNN is a simple but powerful algorithm used for classification tasks in machine learning. Follow the instructions below to complete the implementation.\n",
    "\n",
    "## Task 1: Implement the kNN Classifier\n",
    "\n",
    "You will need to complete the implementation of the kNN classifier using the structured outline provided. This includes defining the `__init__`, `fit`, `predict` methods.\n",
    "\n",
    "**Instructions:**\n",
    "\n",
    "1. Use the structured outline provided in the code to define the kNN classifier class, including constructor and methods.\n",
    "2. Add comments and docstrings to explain the purpose of each method and its input arguments.\n",
    "3. Implement the logic for calculating distances, selecting k-nearest neighbors, and making predictions based on majority voting.\n"
   ]
  },
  {
   "cell_type": "code",
   "execution_count": null,
   "id": "50f9872c",
   "metadata": {},
   "outputs": [],
   "source": [
    "import numpy as np"
   ]
  },
  {
   "cell_type": "code",
   "execution_count": 192,
   "id": "872515c7",
   "metadata": {},
   "outputs": [],
   "source": [
    "import numpy as np\n",
    "\n",
    "class KNNClassifier:\n",
    "    def __init__(self, k=3):\n",
    "        \"\"\"\n",
    "        Constructor for the KNNClassifier class.\n",
    "\n",
    "        Args:\n",
    "        k (int): Number of neighbors to consider (default is 3).\n",
    "        \"\"\"\n",
    "        self.k = k\n",
    "\n",
    "    def fit(self, X_train, y_train):\n",
    "        \"\"\"\n",
    "        Train the kNN classifier with the provided training data.\n",
    "\n",
    "        Args:\n",
    "        X_train (numpy.ndarray): Training feature vectors.\n",
    "        y_train (numpy.ndarray): Training labels.\n",
    "        \"\"\"\n",
    "        self.X_train = X_train\n",
    "        self.y_train = y_train\n",
    "\n",
    "    def predict(self, X_test):\n",
    "        \"\"\"\n",
    "        Predict class labels for a given set of test data.\n",
    "\n",
    "        Args:\n",
    "        X_test (numpy.ndarray): Test feature vectors.\n",
    "\n",
    "        Returns:\n",
    "        numpy.ndarray: Predicted class labels for each test data point.\n",
    "        \"\"\"\n",
    "        return self._predict(X_test)\n",
    "\n",
    "    def _predict(self, x):\n",
    "        #от x до всех точек\n",
    "        distances = np.array([euclidean_distance(x,i) for i in self.X_train])\n",
    "        \n",
    "        # получаем индексы ближайших k точек\n",
    "        k_indices = np.argsort(distances)[:self.k]\n",
    "        \n",
    "        # получаем значения ближайших k\n",
    "        k_nearest_labels = [self.y_train[i] for i in k_indices]\n",
    "        \n",
    "        # большинство\n",
    "        most_common = np.bincount(k_nearest_labels).argmax()\n",
    "        return most_common\n",
    "\n",
    "    def score(self, X_test, y_test):\n",
    "        \"\"\"\n",
    "        Calculate the accuracy of the classifier on a test dataset.\n",
    "\n",
    "        Args:\n",
    "        X_test (numpy.ndarray): Test feature vectors.\n",
    "        y_test (numpy.ndarray): True labels for the test data.\n",
    "\n",
    "        Returns:\n",
    "        float: Accuracy of the classifier.\n",
    "        \"\"\"\n",
    "        predictions = self.predict(X_test)\n",
    "        \n",
    "        accuracy = np.mean(predictions == y_test)\n",
    "        return accuracy"
   ]
  },
  {
   "cell_type": "markdown",
   "id": "a1ddb688",
   "metadata": {},
   "source": [
    "## Task 2: Test Your kNN Classifier\n",
    "\n",
    "After implementing the kNN classifier, you need to test it with various datasets to ensure its correctness."
   ]
  },
  {
   "cell_type": "code",
   "execution_count": 193,
   "id": "ec3efde0",
   "metadata": {},
   "outputs": [],
   "source": [
    "X_train = np.array([[1, 1], [2, 2], [3, 3], [4, 4]])\n",
    "y_train = np.array([0, 0, 1, 1])\n",
    "X_test = np.array([[3.5, 3.5], [0, 0]])"
   ]
  },
  {
   "cell_type": "code",
   "execution_count": 194,
   "id": "ef2d9662",
   "metadata": {},
   "outputs": [],
   "source": [
    "model = KNNClassifier(k=2)"
   ]
  },
  {
   "cell_type": "code",
   "execution_count": 195,
   "id": "07edf01d",
   "metadata": {},
   "outputs": [],
   "source": [
    "model.fit(X_train, y_train)"
   ]
  },
  {
   "cell_type": "code",
   "execution_count": 196,
   "id": "311c3b3e",
   "metadata": {},
   "outputs": [
    {
     "ename": "ValueError",
     "evalue": "Points must have the same number of dimensions",
     "output_type": "error",
     "traceback": [
      "\u001b[1;31m---------------------------------------------------------------------------\u001b[0m",
      "\u001b[1;31mValueError\u001b[0m                                Traceback (most recent call last)",
      "Cell \u001b[1;32mIn[196], line 1\u001b[0m\n\u001b[1;32m----> 1\u001b[0m model\u001b[38;5;241m.\u001b[39mpredict(X_test) \u001b[38;5;241m==\u001b[39m np\u001b[38;5;241m.\u001b[39marray([\u001b[38;5;241m1\u001b[39m, \u001b[38;5;241m0\u001b[39m])\n",
      "Cell \u001b[1;32mIn[192], line 34\u001b[0m, in \u001b[0;36mKNNClassifier.predict\u001b[1;34m(self, X_test)\u001b[0m\n\u001b[0;32m     24\u001b[0m \u001b[38;5;28;01mdef\u001b[39;00m \u001b[38;5;21mpredict\u001b[39m(\u001b[38;5;28mself\u001b[39m, X_test):\n\u001b[0;32m     25\u001b[0m \u001b[38;5;250m    \u001b[39m\u001b[38;5;124;03m\"\"\"\u001b[39;00m\n\u001b[0;32m     26\u001b[0m \u001b[38;5;124;03m    Predict class labels for a given set of test data.\u001b[39;00m\n\u001b[0;32m     27\u001b[0m \n\u001b[1;32m   (...)\u001b[0m\n\u001b[0;32m     32\u001b[0m \u001b[38;5;124;03m    numpy.ndarray: Predicted class labels for each test data point.\u001b[39;00m\n\u001b[0;32m     33\u001b[0m \u001b[38;5;124;03m    \"\"\"\u001b[39;00m\n\u001b[1;32m---> 34\u001b[0m     \u001b[38;5;28;01mreturn\u001b[39;00m \u001b[38;5;28mself\u001b[39m\u001b[38;5;241m.\u001b[39m_predict(X_test)\n",
      "Cell \u001b[1;32mIn[192], line 38\u001b[0m, in \u001b[0;36mKNNClassifier._predict\u001b[1;34m(self, x)\u001b[0m\n\u001b[0;32m     36\u001b[0m \u001b[38;5;28;01mdef\u001b[39;00m \u001b[38;5;21m_predict\u001b[39m(\u001b[38;5;28mself\u001b[39m, x):\n\u001b[0;32m     37\u001b[0m     \u001b[38;5;66;03m#от x до всех точек\u001b[39;00m\n\u001b[1;32m---> 38\u001b[0m     distances \u001b[38;5;241m=\u001b[39m np\u001b[38;5;241m.\u001b[39marray([euclidean_distance(x,i) \u001b[38;5;28;01mfor\u001b[39;00m i \u001b[38;5;129;01min\u001b[39;00m \u001b[38;5;28mself\u001b[39m\u001b[38;5;241m.\u001b[39mX_train])\n\u001b[0;32m     40\u001b[0m     \u001b[38;5;66;03m# получаем индексы ближайших k точек\u001b[39;00m\n\u001b[0;32m     41\u001b[0m     k_indices \u001b[38;5;241m=\u001b[39m np\u001b[38;5;241m.\u001b[39margsort(distances)[:\u001b[38;5;28mself\u001b[39m\u001b[38;5;241m.\u001b[39mk]\n",
      "Cell \u001b[1;32mIn[192], line 38\u001b[0m, in \u001b[0;36m<listcomp>\u001b[1;34m(.0)\u001b[0m\n\u001b[0;32m     36\u001b[0m \u001b[38;5;28;01mdef\u001b[39;00m \u001b[38;5;21m_predict\u001b[39m(\u001b[38;5;28mself\u001b[39m, x):\n\u001b[0;32m     37\u001b[0m     \u001b[38;5;66;03m#от x до всех точек\u001b[39;00m\n\u001b[1;32m---> 38\u001b[0m     distances \u001b[38;5;241m=\u001b[39m np\u001b[38;5;241m.\u001b[39marray([euclidean_distance(x,i) \u001b[38;5;28;01mfor\u001b[39;00m i \u001b[38;5;129;01min\u001b[39;00m \u001b[38;5;28mself\u001b[39m\u001b[38;5;241m.\u001b[39mX_train])\n\u001b[0;32m     40\u001b[0m     \u001b[38;5;66;03m# получаем индексы ближайших k точек\u001b[39;00m\n\u001b[0;32m     41\u001b[0m     k_indices \u001b[38;5;241m=\u001b[39m np\u001b[38;5;241m.\u001b[39margsort(distances)[:\u001b[38;5;28mself\u001b[39m\u001b[38;5;241m.\u001b[39mk]\n",
      "Cell \u001b[1;32mIn[185], line 14\u001b[0m, in \u001b[0;36meuclidean_distance\u001b[1;34m(point1, point2)\u001b[0m\n\u001b[0;32m      2\u001b[0m \u001b[38;5;250m\u001b[39m\u001b[38;5;124;03m\"\"\"\u001b[39;00m\n\u001b[0;32m      3\u001b[0m \u001b[38;5;124;03mCalculate the Euclidean distance between two points in multi-dimensional space.\u001b[39;00m\n\u001b[0;32m      4\u001b[0m \n\u001b[1;32m   (...)\u001b[0m\n\u001b[0;32m     10\u001b[0m \u001b[38;5;124;03mfloat: The Euclidean distance between the two points.\u001b[39;00m\n\u001b[0;32m     11\u001b[0m \u001b[38;5;124;03m\"\"\"\u001b[39;00m\n\u001b[0;32m     13\u001b[0m \u001b[38;5;28;01mif\u001b[39;00m np\u001b[38;5;241m.\u001b[39mshape(point1) \u001b[38;5;241m!=\u001b[39m np\u001b[38;5;241m.\u001b[39mshape(point2):\n\u001b[1;32m---> 14\u001b[0m     \u001b[38;5;28;01mraise\u001b[39;00m \u001b[38;5;167;01mValueError\u001b[39;00m(\u001b[38;5;124m\"\u001b[39m\u001b[38;5;124mPoints must have the same number of dimensions\u001b[39m\u001b[38;5;124m\"\u001b[39m)\n\u001b[0;32m     17\u001b[0m \u001b[38;5;66;03m# write your solution\u001b[39;00m\n\u001b[0;32m     18\u001b[0m euclidean_dist \u001b[38;5;241m=\u001b[39m np\u001b[38;5;241m.\u001b[39mlinalg\u001b[38;5;241m.\u001b[39mnorm(point1 \u001b[38;5;241m-\u001b[39mpoint2)\n",
      "\u001b[1;31mValueError\u001b[0m: Points must have the same number of dimensions"
     ]
    }
   ],
   "source": [
    "model.predict(X_test) == np.array([1, 0])"
   ]
  },
  {
   "cell_type": "code",
   "execution_count": null,
   "id": "bb48cbf4",
   "metadata": {},
   "outputs": [],
   "source": []
  },
  {
   "cell_type": "code",
   "execution_count": null,
   "id": "52e81457",
   "metadata": {},
   "outputs": [],
   "source": []
  },
  {
   "cell_type": "code",
   "execution_count": null,
   "id": "3664dbe1",
   "metadata": {},
   "outputs": [],
   "source": []
  },
  {
   "cell_type": "markdown",
   "id": "1b811921",
   "metadata": {},
   "source": [
    "## Task 3: Visualize your kNN Classifier"
   ]
  },
  {
   "cell_type": "code",
   "execution_count": 180,
   "id": "403d4a0f",
   "metadata": {},
   "outputs": [],
   "source": [
    "# DO NOT CHANGE GIVEN CODE BELOW!"
   ]
  },
  {
   "cell_type": "code",
   "execution_count": 181,
   "id": "749b3ec2",
   "metadata": {},
   "outputs": [
    {
     "data": {
      "image/png": "[encoded data removed]",
      "text/plain": [
       "<Figure size 800x600 with 1 Axes>"
      ]
     },
     "metadata": {},
     "output_type": "display_data"
    }
   ],
   "source": [
    "import numpy as np\n",
    "import matplotlib.pyplot as plt\n",
    "\n",
    "# Function to generate random data points for two classes\n",
    "def generate_data():\n",
    "    np.random.seed(0)\n",
    "    # Class 0: Random points around (2, 2)\n",
    "    class_0 = np.random.randn(100, 2) + np.array([2, 2])\n",
    "    \n",
    "    # Class 1: Random points around (6, 6)\n",
    "    class_1 = np.random.randn(100, 2) + np.array([6, 6])\n",
    "    \n",
    "    # Combine both classes\n",
    "    data = np.vstack([class_0, class_1])\n",
    "    labels = np.array([0] * 100 + [1] * 100)  # Class labels (0 for class 0, 1 for class 1)\n",
    "    \n",
    "    return data, labels\n",
    "\n",
    "# Generate random data\n",
    "X, y = generate_data()\n",
    "\n",
    "# Plot the generated data points\n",
    "plt.figure(figsize=(8, 6))\n",
    "plt.scatter(X[y == 0][:, 0], X[y == 0][:, 1], color='blue', label='Class 0')\n",
    "plt.scatter(X[y == 1][:, 0], X[y == 1][:, 1], color='red', label='Class 1')\n",
    "plt.xlabel('Feature 1')\n",
    "plt.ylabel('Feature 2')\n",
    "plt.legend()\n",
    "plt.title('Synthetic Data for Classification')\n",
    "plt.grid()\n",
    "plt.show()"
   ]
  },
  {
   "cell_type": "code",
   "execution_count": 182,
   "id": "ccbeae3b",
   "metadata": {},
   "outputs": [],
   "source": [
    "# Split the data into training and testing sets\n",
    "from sklearn.model_selection import train_test_split\n",
    "X_train, X_test, y_train, y_test = train_test_split(X, y, test_size=0.3, random_state=42)"
   ]
  },
  {
   "cell_type": "code",
   "execution_count": 183,
   "id": "50639afd",
   "metadata": {},
   "outputs": [],
   "source": [
    "# Create and train the kNN classifier\n",
    "knn = KNNClassifier(k=5)\n",
    "knn.fit(X_train, y_train)"
   ]
  },
  {
   "cell_type": "code",
   "execution_count": 184,
   "id": "3ed0c44c",
   "metadata": {},
   "outputs": [
    {
     "name": "stdout",
     "output_type": "stream",
     "text": [
      "Accuracy: 0.52\n"
     ]
    },
    {
     "ename": "ValueError",
     "evalue": "cannot reshape array of size 1 into shape (525,543)",
     "output_type": "error",
     "traceback": [
      "\u001b[1;31m---------------------------------------------------------------------------\u001b[0m",
      "\u001b[1;31mValueError\u001b[0m                                Traceback (most recent call last)",
      "Cell \u001b[1;32mIn[184], line 21\u001b[0m\n\u001b[0;32m     19\u001b[0m \u001b[38;5;66;03m# Plot decision boundary\u001b[39;00m\n\u001b[0;32m     20\u001b[0m plt\u001b[38;5;241m.\u001b[39mfigure(figsize\u001b[38;5;241m=\u001b[39m(\u001b[38;5;241m8\u001b[39m, \u001b[38;5;241m6\u001b[39m))\n\u001b[1;32m---> 21\u001b[0m plot_decision_boundary(knn, X_train, y_train)\n\u001b[0;32m     22\u001b[0m plt\u001b[38;5;241m.\u001b[39mxlabel(\u001b[38;5;124m'\u001b[39m\u001b[38;5;124mFeature 1\u001b[39m\u001b[38;5;124m'\u001b[39m)\n\u001b[0;32m     23\u001b[0m plt\u001b[38;5;241m.\u001b[39mylabel(\u001b[38;5;124m'\u001b[39m\u001b[38;5;124mFeature 2\u001b[39m\u001b[38;5;124m'\u001b[39m)\n",
      "Cell \u001b[1;32mIn[184], line 15\u001b[0m, in \u001b[0;36mplot_decision_boundary\u001b[1;34m(clf, X, y, cmap)\u001b[0m\n\u001b[0;32m     13\u001b[0m xx, yy \u001b[38;5;241m=\u001b[39m np\u001b[38;5;241m.\u001b[39mmeshgrid(np\u001b[38;5;241m.\u001b[39marange(x_min, x_max, h), np\u001b[38;5;241m.\u001b[39marange(y_min, y_max, h))\n\u001b[0;32m     14\u001b[0m Z \u001b[38;5;241m=\u001b[39m clf\u001b[38;5;241m.\u001b[39mpredict(np\u001b[38;5;241m.\u001b[39mc_[xx\u001b[38;5;241m.\u001b[39mravel(), yy\u001b[38;5;241m.\u001b[39mravel()])\n\u001b[1;32m---> 15\u001b[0m Z \u001b[38;5;241m=\u001b[39m Z\u001b[38;5;241m.\u001b[39mreshape(xx\u001b[38;5;241m.\u001b[39mshape)\n\u001b[0;32m     16\u001b[0m plt\u001b[38;5;241m.\u001b[39mcontourf(xx, yy, Z, cmap\u001b[38;5;241m=\u001b[39mcmap, alpha\u001b[38;5;241m=\u001b[39m\u001b[38;5;241m0.5\u001b[39m)\n\u001b[0;32m     17\u001b[0m plt\u001b[38;5;241m.\u001b[39mscatter(X[:, \u001b[38;5;241m0\u001b[39m], X[:, \u001b[38;5;241m1\u001b[39m], c\u001b[38;5;241m=\u001b[39my, cmap\u001b[38;5;241m=\u001b[39mcmap, edgecolor\u001b[38;5;241m=\u001b[39m\u001b[38;5;124m'\u001b[39m\u001b[38;5;124mk\u001b[39m\u001b[38;5;124m'\u001b[39m)\n",
      "\u001b[1;31mValueError\u001b[0m: cannot reshape array of size 1 into shape (525,543)"
     ]
    },
    {
     "data": {
      "text/plain": [
       "<Figure size 800x600 with 0 Axes>"
      ]
     },
     "metadata": {},
     "output_type": "display_data"
    }
   ],
   "source": [
    "\n",
    "# Make predictions on the test data\n",
    "y_pred = knn.predict(X_test)\n",
    "\n",
    "# Calculate accuracy\n",
    "accuracy = np.mean(y_pred == y_test)\n",
    "print(f\"Accuracy: {accuracy:.2f}\")\n",
    "\n",
    "# Plot the decision boundary\n",
    "def plot_decision_boundary(clf, X, y, cmap='viridis'):\n",
    "    h = .02  # Step size in the mesh\n",
    "    x_min, x_max = X[:, 0].min() - 1, X[:, 0].max() + 1\n",
    "    y_min, y_max = X[:, 1].min() - 1, X[:, 1].max() + 1\n",
    "    xx, yy = np.meshgrid(np.arange(x_min, x_max, h), np.arange(y_min, y_max, h))\n",
    "    Z = clf.predict(np.c_[xx.ravel(), yy.ravel()])\n",
    "    Z = Z.reshape(xx.shape)\n",
    "    plt.contourf(xx, yy, Z, cmap=cmap, alpha=0.5)\n",
    "    plt.scatter(X[:, 0], X[:, 1], c=y, cmap=cmap, edgecolor='k')\n",
    "\n",
    "# Plot decision boundary\n",
    "plt.figure(figsize=(8, 6))\n",
    "plot_decision_boundary(knn, X_train, y_train)\n",
    "plt.xlabel('Feature 1')\n",
    "plt.ylabel('Feature 2')\n",
    "plt.title('kNN Decision Boundary')\n",
    "plt.grid()\n",
    "plt.show()\n"
   ]
  },
  {
   "cell_type": "code",
   "execution_count": null,
   "id": "1449f27d",
   "metadata": {},
   "outputs": [],
   "source": []
  },
  {
   "cell_type": "markdown",
   "id": "bf499ad4",
   "metadata": {},
   "source": [
    "## Conclusion\n",
    "\n",
    "Implementing the k-Nearest Neighbors (kNN) classifier is a valuable exercise to gain a deeper understanding of this algorithm. Completing this practice exercise will help solidify your knowledge of kNN and its practical implementation."
   ]
  },
  {
   "cell_type": "code",
   "execution_count": null,
   "id": "db4ff804",
   "metadata": {},
   "outputs": [],
   "source": []
  },
  {
   "cell_type": "code",
   "execution_count": null,
   "id": "14bb3ced",
   "metadata": {},
   "outputs": [],
   "source": []
  },
  {
   "cell_type": "code",
   "execution_count": null,
   "id": "484e5c3b",
   "metadata": {},
   "outputs": [],
   "source": []
  },
  {
   "cell_type": "code",
   "execution_count": null,
   "id": "6a87a7c9",
   "metadata": {},
   "outputs": [],
   "source": []
  }
 ],
 "metadata": {
  "kernelspec": {
   "display_name": "Python 3 (ipykernel)",
   "language": "python",
   "name": "python3"
  },
  "language_info": {
   "codemirror_mode": {
    "name": "ipython",
    "version": 3
   },
   "file_extension": ".py",
   "mimetype": "text/x-python",
   "name": "python",
   "nbconvert_exporter": "python",
   "pygments_lexer": "ipython3",
   "version": "3.11.5"
  }
 },
 "nbformat": 4,
 "nbformat_minor": 5
}
