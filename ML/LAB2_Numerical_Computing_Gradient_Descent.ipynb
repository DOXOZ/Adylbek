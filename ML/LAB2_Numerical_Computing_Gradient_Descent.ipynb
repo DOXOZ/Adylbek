{
 "cells": [
  {
   "cell_type": "markdown",
   "id": "3aa15286",
   "metadata": {},
   "source": [
    "Atalov S. (TSI AUCA)\n",
    "\n",
    "Introduction to Machine Learning and Artificial Intelligence\n",
    "\n",
    "# Lab 2\n",
    "## Numerical Computing And Gradient Descent (5 p)\n",
    "\n",
    "-----"
   ]
  },
  {
   "cell_type": "markdown",
   "id": "c071ab82",
   "metadata": {},
   "source": [
    "<div>\n",
    "    <img src=\"https://www.mathworks.com/moler/chapters/_jcr_content/mainParsys/column_1/2/image_0.adapt.full.medium.png/1642102580164.png\" width=\"300\">\n",
    "</div>"
   ]
  },
  {
   "cell_type": "code",
   "execution_count": 18,
   "id": "6f5ba81a",
   "metadata": {},
   "outputs": [],
   "source": [
    "import numpy as np\n",
    "from matplotlib import pyplot as plt"
   ]
  },
  {
   "cell_type": "markdown",
   "id": "e75f9348",
   "metadata": {},
   "source": [
    "## Part 1. Math (1 p)"
   ]
  },
  {
   "cell_type": "markdown",
   "id": "222ce8bd",
   "metadata": {},
   "source": [
    "Find derivatives of the following functions: "
   ]
  },
  {
   "cell_type": "markdown",
   "id": "0d5efe8e",
   "metadata": {},
   "source": [
    "1. \n",
    "$$f(x) = 3x^3 - 2x^2 + 5x - 1$$\n",
    "\n",
    "$$f'(x) = 9x^2 - 4x + 5$$\n"
   ]
  },
  {
   "cell_type": "markdown",
   "id": "f1c7b4ba",
   "metadata": {},
   "source": [
    "2.\n",
    "\n",
    "$$g(x) = e^{2x}$$\n",
    "$$g'(x)= 2e^{2x}$$"
   ]
  },
  {
   "cell_type": "markdown",
   "id": "eee2b04b",
   "metadata": {},
   "source": [
    "3.\n",
    "\n",
    "$$p(x) = x^2 + 3wx - 7$$\n",
    "$$p'(w)= 3w$$"
   ]
  },
  {
   "cell_type": "markdown",
   "id": "2ca209c1",
   "metadata": {},
   "source": [
    "4.\n",
    "\n",
    "$$s(x) = x^5 + 2x^4 - x^3 - 3x^2 + x + 5c + 5$$\n",
    "$$s'(x)=5x^4 + 8x^3 - 3x^2 - 6x + 1  $$"
   ]
  },
  {
   "cell_type": "markdown",
   "id": "7b77a9bd",
   "metadata": {},
   "source": [
    "5.\n",
    "\n",
    "$$k(x) = \\ln(2x + 1)$$\n",
    "$$k'(x)= 2/(2x+1)$$"
   ]
  },
  {
   "cell_type": "markdown",
   "id": "2cec79ce",
   "metadata": {},
   "source": [
    "---\n",
    "## Part 2. Programming (4 p.)"
   ]
  },
  {
   "cell_type": "markdown",
   "id": "2a51c601",
   "metadata": {},
   "source": [
    "### 2.1. Vector Vector dot product (1 p.)\n",
    "The dot product is a mainstay of Linear Algebra and NumPy. This is an operation used extensively in this course and should be well understood. The dot product is shown below."
   ]
  },
  {
   "cell_type": "markdown",
   "id": "da55593b",
   "metadata": {},
   "source": [
    "<img src=\"./images/Lab02_dot_notrans.gif\" width=800> "
   ]
  },
  {
   "cell_type": "markdown",
   "id": "e3fca489",
   "metadata": {},
   "source": [
    "The dot product multiplies the values in two vectors element-wise and then sums the result.\n",
    "Vector dot product requires the dimensions of the two vectors to be the same. "
   ]
  },
  {
   "cell_type": "markdown",
   "id": "20e170f1",
   "metadata": {},
   "source": [
    "Let's implement our own version of the dot product below:\n",
    "\n",
    "**Using a for loop**, implement a function which returns the dot product of two vectors. The function to return given inputs $a$ and $b$:\n",
    "$$ x = \\sum_{i=0}^{n-1} a_i b_i $$\n",
    "Assume both `a` and `b` are the same shape."
   ]
  },
  {
   "cell_type": "code",
   "execution_count": 2,
   "id": "8323e485",
   "metadata": {},
   "outputs": [],
   "source": [
    "import numpy as np\n",
    "def my_dot(a, b): \n",
    "    \"\"\"\n",
    "    Compute the dot product of two vectors\n",
    " \n",
    "    Args:\n",
    "      a (ndarray (n,)):  input vector \n",
    "      b (ndarray (n,)):  input vector with same dimension as a\n",
    "    \n",
    "    Returns:\n",
    "      x (scalar): \n",
    "    \"\"\"\n",
    "    try:\n",
    "        res = 0\n",
    "        for i in range(len(a)):\n",
    "            res += a[i] * b[i]\n",
    "        return res\n",
    "    except ValueError:\n",
    "        print(\"Размер неодинаковый\")\n",
    "    \n",
    "    return "
   ]
  },
  {
   "cell_type": "code",
   "execution_count": 16,
   "id": "a8f1f458",
   "metadata": {},
   "outputs": [
    {
     "data": {
      "text/plain": [
       "14"
      ]
     },
     "execution_count": 16,
     "metadata": {},
     "output_type": "execute_result"
    }
   ],
   "source": [
    "a = np.array([1,2,3])\n",
    "b = np.array([1,2,3])\n",
    "my_dot(a,b)"
   ]
  },
  {
   "cell_type": "code",
   "execution_count": 17,
   "id": "e4cf8f4f",
   "metadata": {
    "scrolled": true
   },
   "outputs": [],
   "source": [
    "# test\n",
    "a = np.array([1, 2, 3, 4])\n",
    "b = np.array([-1, 4, 3, 2])\n",
    "\n",
    "assert my_dot(a,b) == np.dot(a,b), \"Wrong!\""
   ]
  },
  {
   "cell_type": "markdown",
   "id": "b620c118",
   "metadata": {},
   "source": [
    "#### Testing the vector operations speed"
   ]
  },
  {
   "cell_type": "markdown",
   "id": "0092957f",
   "metadata": {},
   "source": [
    "Actually we can use `np.dot` for faster computations"
   ]
  },
  {
   "cell_type": "code",
   "execution_count": 3,
   "id": "f131b164",
   "metadata": {},
   "outputs": [
    {
     "name": "stdout",
     "output_type": "stream",
     "text": [
      "np.dot(a, b) =  2501072.5817\n",
      "Vectorized version duration: 60.0014 ms \n",
      "my_dot(a, b) =  2501072.5817\n",
      "loop version duration: 2662.8945 ms \n"
     ]
    }
   ],
   "source": [
    "import time\n",
    "np.random.seed(1)\n",
    "a = np.random.rand(10000000)  # very large arrays\n",
    "b = np.random.rand(10000000)\n",
    "\n",
    "tic = time.time()  # capture start time\n",
    "c = np.dot(a, b)\n",
    "toc = time.time()  # capture end time\n",
    "\n",
    "print(f\"np.dot(a, b) =  {c:.4f}\")\n",
    "print(f\"Vectorized version duration: {1000*(toc-tic):.4f} ms \")\n",
    "\n",
    "tic = time.time()  # capture start time\n",
    "c = my_dot(a,b)\n",
    "toc = time.time()  # capture end time\n",
    "\n",
    "print(f\"my_dot(a, b) =  {c:.4f}\")\n",
    "print(f\"loop version duration: {1000*(toc-tic):.4f} ms \")"
   ]
  },
  {
   "cell_type": "markdown",
   "id": "0bf1a7eb",
   "metadata": {},
   "source": [
    "So, vectorization provides a large speed up in this example. This is because NumPy makes better use of available data parallelism in the underlying hardware. GPU's and modern CPU's implement Single Instruction, Multiple Data (SIMD) pipelines allowing multiple operations to be issued in parallel. This is critical in Machine Learning where the data sets are often very large."
   ]
  },
  {
   "cell_type": "markdown",
   "id": "c3ad829e",
   "metadata": {},
   "source": [
    "### 2.2. Numerical computations ( 1 p.)"
   ]
  },
  {
   "cell_type": "markdown",
   "id": "823dcb9e",
   "metadata": {},
   "source": [
    "#### Function"
   ]
  },
  {
   "cell_type": "markdown",
   "id": "e179c7ed",
   "metadata": {},
   "source": [
    "There is a function:\n",
    "\n",
    "$f(x) = x^2 - 4x + 4$\n",
    "\n",
    "Let's implement this function in Python:"
   ]
  },
  {
   "cell_type": "code",
   "execution_count": 4,
   "id": "62687593",
   "metadata": {},
   "outputs": [],
   "source": [
    "# Function definition\n",
    "def f(x):\n",
    "    return x*x-4*x+4"
   ]
  },
  {
   "cell_type": "code",
   "execution_count": 5,
   "id": "dfddc8bb",
   "metadata": {},
   "outputs": [
    {
     "name": "stdout",
     "output_type": "stream",
     "text": [
      "Nice\n"
     ]
    }
   ],
   "source": [
    "# test your code\n",
    "assert f(5) == 9, \"Wrong\"\n",
    "assert f(10) == 64, \"Wrong\"\n",
    "print('Nice')"
   ]
  },
  {
   "cell_type": "code",
   "execution_count": 6,
   "id": "d6a47159",
   "metadata": {},
   "outputs": [
    {
     "data": {
      "image/png": "[encoded data removed]",
      "text/plain": [
       "<Figure size 640x480 with 1 Axes>"
      ]
     },
     "metadata": {},
     "output_type": "display_data"
    }
   ],
   "source": [
    "import matplotlib.pyplot as plt\n",
    "# Visualize the function and extrema using Matplotlib\n",
    "x_values = np.linspace(-5, 5, 1000)\n",
    "y_values = f(x_values)\n",
    "\n",
    "plt.plot(x_values, y_values, label='f(x)')\n",
    "\n",
    "plt.legend()\n",
    "plt.title('Function Visualization')\n",
    "plt.xlabel('x')\n",
    "plt.ylabel('f(x)')\n",
    "plt.show()"
   ]
  },
  {
   "cell_type": "markdown",
   "id": "5fb33db5",
   "metadata": {},
   "source": [
    "#### Function Derivative"
   ]
  },
  {
   "cell_type": "markdown",
   "id": "e21597d4",
   "metadata": {},
   "source": [
    "Implement the function to calculate derivative of `f(x)`"
   ]
  },
  {
   "cell_type": "markdown",
   "id": "9d5ef056",
   "metadata": {},
   "source": [
    "$f(x) = x^2 - 4x + 4$"
   ]
  },
  {
   "cell_type": "code",
   "execution_count": 7,
   "id": "e33bae5d",
   "metadata": {},
   "outputs": [],
   "source": [
    "# Derivative of the function\n",
    "def df(x) -> float:\n",
    "    return 2*x-4"
   ]
  },
  {
   "cell_type": "code",
   "execution_count": 8,
   "id": "e7375289",
   "metadata": {},
   "outputs": [
    {
     "name": "stdout",
     "output_type": "stream",
     "text": [
      "Nice\n"
     ]
    }
   ],
   "source": [
    "# test your code\n",
    "assert df(5) == 6, \"Wrong\"\n",
    "assert df(10) == 16, \"Wrong\"\n",
    "print('Nice')"
   ]
  },
  {
   "cell_type": "markdown",
   "id": "84c8013e",
   "metadata": {},
   "source": [
    "\n",
    "\n",
    "### 2.3. Understanding Gradient Descent \n",
    "\n",
    "In the world of mathematics, we often deal with functions, and finding the minimum or maximum of a function is a common problem. Let's consider a simple function `f(x)` as an example.\n",
    "\n",
    "#### Key Concepts:\n",
    "\n",
    "1. **The Function:**\n",
    "   - $f(x)$ represents a mathematical function, where $x$ is the input variable.\n",
    "\n",
    "2. **The Derivative (Slope):**\n",
    "   - The derivative $f'(x)$ at a given point $x$ tells us the slope of the function at that point.\n",
    "   - If $f'(x) > 0$, the function is going uphill; if $f'(x) < 0$, it's going downhill.\n",
    "\n",
    "3. **Gradient (Vector of Derivatives):**\n",
    "   - For functions with multiple variables, we talk about the gradient $\\nabla f$, which is a vector containing all the partial derivatives.\n",
    "   - Each component of the gradient points in the direction of the steepest ascent.\n",
    "\n",
    "4. **Direction of Steepest Descent:**\n",
    "   - The negative of the gradient $-\\nabla f$ points in the direction of the steepest descent.\n",
    "   - Moving in this direction helps us reach the minimum of the function.\n",
    "\n",
    "5. **Taking Steps:**\n",
    "   - The iterative update rule is given by: $x_{\\text{new}} = x_{\\text{old}} - \\text{learning_rate} \\times \\nabla f(x_{\\text{old}})$.\n",
    "   - The learning rate is a small positive number, controlling the size of each step.\n",
    "\n",
    "#### The Algorithm in Mathematical Terms:\n",
    "\n",
    "1. **Start Somewhere:**\n",
    "   - Choose an initial point $x_{\\text{old}}$.\n",
    "\n",
    "2. **Feel the Slope:**\n",
    "   - Calculate the gradient $\\nabla f(x_{\\text{old}})$.\n",
    "\n",
    "3. **Take a Step Downhill:**\n",
    "   - Update your position: $x_{\\text{new}} = x_{\\text{old}} - \\text{learning_rate} \\times \\nabla f(x_{\\text{old}})$.\n",
    "\n",
    "4. **Repeat:**\n",
    "   - Continue steps 2 and 3 until convergence or a certain number of iterations.\n",
    "\n",
    "#### Why \"Gradient Descent\"?\n",
    "\n",
    "- \"Gradient\" refers to the vector of partial derivatives, $\\nabla f$.\n",
    "- \"Descent\" signifies moving in the direction opposite to the gradient to decrease the function value.\n",
    "\n",
    "#### Mathematical Realization:\n",
    "\n",
    "- **Update Rule:**\n",
    "  - $x_{\\text{new}} = x_{\\text{old}} - \\text{learning_rate} \\times \\nabla f(x_{\\text{old}})$\n",
    "\n",
    "- **Convergence:**\n",
    "  - The process ideally converges to a minimum where $\\nabla f = 0$.\n",
    "\n",
    "#### Considerations for Success:\n",
    "\n",
    "- **Learning Rate:**\n",
    "  - Choose a learning rate ($\\text{learning_rate}$) carefully to balance convergence speed and stability.\n",
    "\n",
    "- **Initial Position:**\n",
    "  - Different initial positions may lead to different local minima or maxima.\n",
    "\n",
    "#### Real-World Analogy with Math:\n",
    "\n",
    "In mathematical terms, you're calculating the slope at your current position, moving a small distance in the direction of the negative slope, and repeating this process until you reach a point where the slope is nearly zero. This mathematical maneuver is gradient descent, a fundamental optimization technique."
   ]
  },
  {
   "cell_type": "markdown",
   "id": "2de5ed7e",
   "metadata": {},
   "source": [
    "### PLEASE WATCH THIS VIDEO"
   ]
  },
  {
   "cell_type": "code",
   "execution_count": 29,
   "id": "a5d1ed68",
   "metadata": {},
   "outputs": [
    {
     "data": {
      "image/jpeg": "[encoded data removed]",
      "text/html": [
       "\n",
       "        <iframe\n",
       "            width=\"800\"\n",
       "            height=\"500\"\n",
       "            src=\"https://www.youtube.com/embed/sDv4f4s2SB8\"\n",
       "            frameborder=\"0\"\n",
       "            allowfullscreen\n",
       "            \n",
       "        ></iframe>\n",
       "        "
      ],
      "text/plain": [
       "<IPython.lib.display.YouTubeVideo at 0x1a285f9fad0>"
      ]
     },
     "execution_count": 29,
     "metadata": {},
     "output_type": "execute_result"
    }
   ],
   "source": [
    "from IPython.display import YouTubeVideo\n",
    "\n",
    "YouTubeVideo('sDv4f4s2SB8', width=800, height=500)"
   ]
  },
  {
   "cell_type": "markdown",
   "id": "69251655",
   "metadata": {},
   "source": [
    "### 2.4. Gradient descent implementation (2 p.)"
   ]
  },
  {
   "cell_type": "code",
   "execution_count": 9,
   "id": "debae53b",
   "metadata": {},
   "outputs": [],
   "source": [
    "# Gradient Descent for finding minimum\n",
    "from decimal import Decimal\n",
    "def gradient_descent(f, df, x_init, learning_rate, num_iterations):\n",
    "    \"\"\"\n",
    "    Find minima using gradient descent algorithm\n",
    " \n",
    "    Args:\n",
    "      f  (function):  your function \n",
    "      df (function):  your function to calculate derivative of the f\n",
    "      x_init (int) :  initial x\n",
    "      learning_rate (float) :  learning rate (alpha)\n",
    "      num_iterations (int)  :  number of iterations\n",
    "    \n",
    "    Returns:\n",
    "      x (scalar):  minimum x\n",
    "    \"\"\"\n",
    "    lr = Decimal(f\"{learning_rate}\")\n",
    "    x = x_init\n",
    "    for i in range(num_iterations):\n",
    "        x = x - learning_rate * df(x)\n",
    "    return x"
   ]
  },
  {
   "cell_type": "code",
   "execution_count": 57,
   "id": "2dd53934",
   "metadata": {},
   "outputs": [
    {
     "name": "stdout",
     "output_type": "stream",
     "text": [
      "Minimum value: 0.0 at x = 1.9999999858579973\n"
     ]
    },
    {
     "data": {
      "image/png": "[encoded data removed]",
      "text/plain": [
       "<Figure size 640x480 with 1 Axes>"
      ]
     },
     "metadata": {},
     "output_type": "display_data"
    }
   ],
   "source": [
    "# Initial values\n",
    "x_init_min = -5\n",
    "\n",
    "learning_rate = 0.001\n",
    "num_iterations = 10000\n",
    "\n",
    "# Finding minimum using gradient descent\n",
    "min_x = gradient_descent(f, df, x_init_min, learning_rate, num_iterations)\n",
    "min_value = f(min_x)\n",
    "\n",
    "# Print the results\n",
    "print(f\"Minimum value: {min_value} at x = {min_x}\")\n",
    "\n",
    "# Visualize the function and extrema using Matplotlib\n",
    "x_values = np.linspace(-5, 5, 1000)\n",
    "y_values = f(x_values)\n",
    "\n",
    "plt.plot(x_values, y_values, label='f(x)')\n",
    "plt.scatter(min_x, min_value, color='red', label='Min/Max')\n",
    "plt.legend()\n",
    "plt.title('Function and Extrema Visualization using Gradient Descent/Ascent')\n",
    "plt.xlabel('x')\n",
    "plt.ylabel('f(x)')\n",
    "plt.show()"
   ]
  },
  {
   "cell_type": "code",
   "execution_count": null,
   "id": "06808b71",
   "metadata": {},
   "outputs": [],
   "source": []
  }
 ],
 "metadata": {
  "kernelspec": {
   "display_name": "Python 3 (ipykernel)",
   "language": "python",
   "name": "python3"
  },
  "language_info": {
   "codemirror_mode": {
    "name": "ipython",
    "version": 3
   },
   "file_extension": ".py",
   "mimetype": "text/x-python",
   "name": "python",
   "nbconvert_exporter": "python",
   "pygments_lexer": "ipython3",
   "version": "3.11.5"
  }
 },
 "nbformat": 4,
 "nbformat_minor": 5
}
