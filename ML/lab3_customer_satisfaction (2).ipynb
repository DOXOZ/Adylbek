{
 "cells": [
  {
   "cell_type": "markdown",
   "id": "e56891ff",
   "metadata": {},
   "source": [
    "Atalov S. (TSI AUCA)\n",
    "\n",
    "---\n",
    "\n",
    "# Lab3. Passenger Satisfaction\n",
    "- **5 points**\n",
    "- **Submit:** csv file and this notebook\n",
    "- **Deadline:** Mar 29, 23:59.\n",
    "\n",
    "This task is devoted to a full-fledged solution to the problem of machine learning."
   ]
  },
  {
   "cell_type": "markdown",
   "id": "ac05dc4c",
   "metadata": {},
   "source": [
    "<div>\n",
    "    <img src=\"https://live-production.wcms.abc-cdn.net.au/ac56ffe2b5282f82358e6b396e2da2ba?impolicy=wcms_crop_resize&cropH=1915&cropW=3404&xPos=5&yPos=0&width=862&height=485\" width=\"500\"/>\n",
    "</div>\n",
    "\n",
    "\n",
    "---"
   ]
  },
  {
   "cell_type": "markdown",
   "id": "1a3100c4",
   "metadata": {},
   "source": [
    "## 0. Problem Statement\n",
    "\n",
    "About Company:\n",
    "\n",
    "**TSI Airlines** - largest airline of Kyrgyzstan by size and passengers carried.\n",
    "\n",
    "#### Problem\n",
    "You need to create a model that will accurately predict passenger **satisfaction**."
   ]
  },
  {
   "cell_type": "code",
   "execution_count": 1,
   "id": "9f44b1e5",
   "metadata": {},
   "outputs": [],
   "source": [
    "# read the datafile\n",
    "import pandas as pd\n",
    "import numpy as np\n",
    "from sklearn.ensemble import RandomForestClassifier\n",
    "from sklearn.model_selection import train_test_split\n",
    "from sklearn.model_selection import GridSearchCV\n",
    "from sklearn.neighbors import KNeighborsClassifier\n",
    "from sklearn.metrics import accuracy_score\n",
    "\n",
    "df = pd.read_csv(\"satisfaction_train.csv\")\n",
    "\n"
   ]
  },
  {
   "cell_type": "code",
   "execution_count": null,
   "id": "5ea5b8fa",
   "metadata": {},
   "outputs": [],
   "source": []
  },
  {
   "cell_type": "code",
   "execution_count": null,
   "id": "45fdd77a",
   "metadata": {},
   "outputs": [],
   "source": []
  },
  {
   "cell_type": "code",
   "execution_count": null,
   "id": "d86c18fc",
   "metadata": {},
   "outputs": [],
   "source": []
  },
  {
   "cell_type": "code",
   "execution_count": 2,
   "id": "88c7f792",
   "metadata": {},
   "outputs": [],
   "source": [
    "df.drop(['id'], axis=1, inplace=True)"
   ]
  },
  {
   "cell_type": "code",
   "execution_count": 3,
   "id": "a1fc6392",
   "metadata": {
    "scrolled": true
   },
   "outputs": [
    {
     "name": "stdout",
     "output_type": "stream",
     "text": [
      "<class 'pandas.core.frame.DataFrame'>\n",
      "RangeIndex: 80000 entries, 0 to 79999\n",
      "Data columns (total 23 columns):\n",
      " #   Column                             Non-Null Count  Dtype  \n",
      "---  ------                             --------------  -----  \n",
      " 0   Gender                             80000 non-null  object \n",
      " 1   Customer Type                      80000 non-null  object \n",
      " 2   Age                                80000 non-null  int64  \n",
      " 3   Type of Travel                     80000 non-null  object \n",
      " 4   Class                              80000 non-null  object \n",
      " 5   Flight Distance                    80000 non-null  int64  \n",
      " 6   Inflight wifi service              80000 non-null  int64  \n",
      " 7   Departure/Arrival time convenient  80000 non-null  int64  \n",
      " 8   Ease of Online booking             80000 non-null  int64  \n",
      " 9   Gate location                      80000 non-null  int64  \n",
      " 10  Food and drink                     80000 non-null  int64  \n",
      " 11  Online boarding                    80000 non-null  int64  \n",
      " 12  Seat comfort                       80000 non-null  int64  \n",
      " 13  Inflight entertainment             80000 non-null  int64  \n",
      " 14  On-board service                   80000 non-null  int64  \n",
      " 15  Leg room service                   80000 non-null  int64  \n",
      " 16  Baggage handling                   80000 non-null  int64  \n",
      " 17  Checkin service                    80000 non-null  int64  \n",
      " 18  Inflight service                   80000 non-null  int64  \n",
      " 19  Cleanliness                        80000 non-null  int64  \n",
      " 20  Departure Delay in Minutes         80000 non-null  int64  \n",
      " 21  Arrival Delay in Minutes           79774 non-null  float64\n",
      " 22  satisfaction                       80000 non-null  object \n",
      "dtypes: float64(1), int64(17), object(5)\n",
      "memory usage: 14.0+ MB\n"
     ]
    }
   ],
   "source": [
    "df.isnull().sum()\n",
    "df.info()"
   ]
  },
  {
   "cell_type": "code",
   "execution_count": null,
   "id": "be082d07",
   "metadata": {},
   "outputs": [],
   "source": []
  },
  {
   "cell_type": "markdown",
   "id": "263b9477",
   "metadata": {},
   "source": [
    "## 1. Data Preprocessing"
   ]
  },
  {
   "cell_type": "code",
   "execution_count": 5,
   "id": "f4a94036",
   "metadata": {},
   "outputs": [],
   "source": [
    "from sklearn.linear_model import LinearRegression\n",
    "from sklearn.preprocessing import LabelEncoder"
   ]
  },
  {
   "cell_type": "code",
   "execution_count": null,
   "id": "43797a2a",
   "metadata": {},
   "outputs": [],
   "source": []
  },
  {
   "cell_type": "code",
   "execution_count": 27,
   "id": "0c16bf06",
   "metadata": {},
   "outputs": [
    {
     "data": {
      "text/html": [
       "<img src=\"https://habrastorage.org/r/w1560/web/f6a/2fb/909/f6a2fb909ee1466b914081eeb83c573c.jpg\"/>"
      ],
      "text/plain": [
       "<IPython.core.display.Image object>"
      ]
     },
     "execution_count": 27,
     "metadata": {},
     "output_type": "execute_result"
    }
   ],
   "source": [
    "from IPython.display import Image\n",
    "from IPython.core.display import HTML \n",
    "Image(url= \"https://habrastorage.org/r/w1560/web/f6a/2fb/909/f6a2fb909ee1466b914081eeb83c573c.jpg\")"
   ]
  },
  {
   "cell_type": "code",
   "execution_count": 6,
   "id": "85cc42fa",
   "metadata": {
    "scrolled": false
   },
   "outputs": [],
   "source": [
    "def pipeline(df, pred=False):\n",
    "    df = df.copy()\n",
    "    label_encoder = LabelEncoder()\n",
    "    \n",
    "    # это котегориальные браззер\n",
    "    categorical_features = df.select_dtypes(include=['object']).columns\n",
    "    if pred:\n",
    "        zero = df[pred].unique()[0]\n",
    "        one = df[pred].unique()[1]\n",
    "        categorical_features = categorical_features.drop(pred)\n",
    "        df[pred] = df[pred].replace({df[pred].unique()[0]:0, df[pred].unique()[1]:1})\n",
    "    for feature in categorical_features:\n",
    "        if df[feature].isnull().sum() != 0:\n",
    "            X = df.dropna()\n",
    "            y = label_encoder.fit_transform(X.pop(feature))\n",
    "            forest = RandomForestClassifier(max_depth=4)\n",
    "            forest.fit(X, y)\n",
    "            missing_X = df[df[feature].isnull()].drop(columns=[feature])\n",
    "            missing_predictions = forest.predict(missing_X)\n",
    "            df.loc[df[feature].isnull(), feature] = label_encoder.inverse_transform(missing_predictions)\n",
    "    df = pd.get_dummies(df, columns=categorical_features)\n",
    "    \n",
    "    # это числа браззер\n",
    "    numerical_features = df.select_dtypes(include=['float64', 'int64']).columns\n",
    "    for feature in numerical_features:\n",
    "        if df[feature].isnull().sum() != 0:\n",
    "            lin_reg = LinearRegression()\n",
    "            X = df.dropna()\n",
    "            y = X.pop(feature)\n",
    "            lin_reg.fit(X, y)\n",
    "            missing_predictions = lin_reg.predict(df[df[feature].isnull()].drop(columns=[feature]))\n",
    "            df.loc[df[feature].isnull(), feature] = missing_predictions\n",
    "    if pred:\n",
    "        df[pred] = df[pred].replace({0:zero,1:one})\n",
    "    return df\n"
   ]
  },
  {
   "cell_type": "code",
   "execution_count": 7,
   "id": "bb7c6f2b",
   "metadata": {},
   "outputs": [
    {
     "data": {
      "text/plain": [
       "Age                                  0\n",
       "Flight Distance                      0\n",
       "Inflight wifi service                0\n",
       "Departure/Arrival time convenient    0\n",
       "Ease of Online booking               0\n",
       "Gate location                        0\n",
       "Food and drink                       0\n",
       "Online boarding                      0\n",
       "Seat comfort                         0\n",
       "Inflight entertainment               0\n",
       "On-board service                     0\n",
       "Leg room service                     0\n",
       "Baggage handling                     0\n",
       "Checkin service                      0\n",
       "Inflight service                     0\n",
       "Cleanliness                          0\n",
       "Departure Delay in Minutes           0\n",
       "Arrival Delay in Minutes             0\n",
       "satisfaction                         0\n",
       "Gender_Female                        0\n",
       "Gender_Male                          0\n",
       "Customer Type_Loyal Customer         0\n",
       "Customer Type_disloyal Customer      0\n",
       "Type of Travel_Business travel       0\n",
       "Type of Travel_Personal Travel       0\n",
       "Class_Business                       0\n",
       "Class_Eco                            0\n",
       "Class_Eco Plus                       0\n",
       "dtype: int64"
      ]
     },
     "execution_count": 7,
     "metadata": {},
     "output_type": "execute_result"
    }
   ],
   "source": [
    "df = pipeline(df,'satisfaction')\n",
    "\n",
    "df.isnull().sum()"
   ]
  },
  {
   "cell_type": "code",
   "execution_count": null,
   "id": "739174b4",
   "metadata": {},
   "outputs": [],
   "source": []
  },
  {
   "cell_type": "code",
   "execution_count": 8,
   "id": "3101a441",
   "metadata": {},
   "outputs": [],
   "source": [
    "X = df.copy()\n",
    "y = X.pop('satisfaction')"
   ]
  },
  {
   "cell_type": "code",
   "execution_count": 9,
   "id": "226e738e",
   "metadata": {},
   "outputs": [],
   "source": [
    "X_train, X_test, y_train, y_test = train_test_split(X,y, test_size = 0.1,random_state=0)"
   ]
  },
  {
   "cell_type": "markdown",
   "id": "11e989c6",
   "metadata": {},
   "source": [
    "## 2. Modeling"
   ]
  },
  {
   "cell_type": "code",
   "execution_count": 13,
   "id": "5cdc6dc2",
   "metadata": {},
   "outputs": [],
   "source": [
    "from sklearn.ensemble import GradientBoostingClassifier\n",
    "from sklearn.model_selection import RandomizedSearchCV\n",
    "from sklearn.tree import DecisionTreeClassifier\n",
    "from sklearn.ensemble import VotingClassifier"
   ]
  },
  {
   "cell_type": "code",
   "execution_count": 25,
   "id": "97e442d6",
   "metadata": {},
   "outputs": [],
   "source": [
    "model = GradientBoostingClassifier(learning_rate=0.5, max_depth=5, n_estimators=150, min_samples_split=10)"
   ]
  },
  {
   "cell_type": "code",
   "execution_count": null,
   "id": "1fe57189",
   "metadata": {
    "scrolled": true
   },
   "outputs": [],
   "source": []
  },
  {
   "cell_type": "code",
   "execution_count": null,
   "id": "ccb08884",
   "metadata": {},
   "outputs": [],
   "source": []
  },
  {
   "cell_type": "code",
   "execution_count": 26,
   "id": "bd2315ef",
   "metadata": {},
   "outputs": [
    {
     "name": "stdout",
     "output_type": "stream",
     "text": [
      "0.9850694444444444\n"
     ]
    },
    {
     "data": {
      "text/plain": [
       "0.961125"
      ]
     },
     "execution_count": 26,
     "metadata": {},
     "output_type": "execute_result"
    }
   ],
   "source": [
    "model.fit(X_train, y_train)\n",
    "print(model.score(X_train,y_train))\n",
    "model.score(X_test, y_test)"
   ]
  },
  {
   "cell_type": "code",
   "execution_count": 32,
   "id": "b3d2b4d9",
   "metadata": {},
   "outputs": [],
   "source": [
    "forest = RandomForestClassifier(max_depth=None,n_estimators = 150, min_samples_split=2)"
   ]
  },
  {
   "cell_type": "code",
   "execution_count": 33,
   "id": "eb143f14",
   "metadata": {},
   "outputs": [
    {
     "name": "stdout",
     "output_type": "stream",
     "text": [
      "1.0\n"
     ]
    },
    {
     "data": {
      "text/plain": [
       "0.9625"
      ]
     },
     "execution_count": 33,
     "metadata": {},
     "output_type": "execute_result"
    }
   ],
   "source": [
    "forest.fit(X_train, y_train)\n",
    "print(forest.score(X_train,y_train))\n",
    "forest.score(X_test, y_test)"
   ]
  },
  {
   "cell_type": "code",
   "execution_count": 23,
   "id": "2906edef",
   "metadata": {},
   "outputs": [],
   "source": [
    "voting = VotingClassifier(estimators=[('forest', forest), ('gradientboost', model)],voting='soft', weights=[1,2],flatten_transform=True)"
   ]
  },
  {
   "cell_type": "code",
   "execution_count": 24,
   "id": "3af578d0",
   "metadata": {},
   "outputs": [
    {
     "name": "stdout",
     "output_type": "stream",
     "text": [
      "0.9780972222222222\n",
      "0.96225\n"
     ]
    }
   ],
   "source": [
    "voting.fit(X_train,y_train)\n",
    "print(voting.score(X_train,y_train))\n",
    "print(voting.score(X_test, y_test))"
   ]
  },
  {
   "cell_type": "markdown",
   "id": "a3d9b5ae",
   "metadata": {},
   "source": [
    "## 3. Hyperparameter Tuning (Find Best Parameters)"
   ]
  },
  {
   "cell_type": "code",
   "execution_count": 36,
   "id": "ed2dcf5a",
   "metadata": {},
   "outputs": [],
   "source": [
    "from sklearn.experimental import enable_halving_search_cv\n",
    "from sklearn.model_selection import HalvingGridSearchCV"
   ]
  },
  {
   "cell_type": "code",
   "execution_count": null,
   "id": "83dae7e8",
   "metadata": {
    "scrolled": true
   },
   "outputs": [],
   "source": [
    "param_dist = {\n",
    "    'n_estimators': [50, 100, 150, 200],  # Список возможных значений для числа оценщиков\n",
    "    'learning_rate': [0.01, 0.1, 0.2, 0.3, 0.4, 0.5],  # Список возможных значений для скорости обучения\n",
    "    'max_depth': [2, 3, 4, 5, 6, 7, 8, 9, 10, 11]  # Список возможных значений для максимальной глубины дерева\n",
    "}\n",
    "param_dist_forest = {\n",
    "    'n_estimators': [50, 100, 150, 200],  # Список возможных значений для числа деревьев\n",
    "    'max_depth': [None, 2, 3, 4, 5, 6, 7, 8, 9, 10],  # Список возможных значений для максимальной глубины деревьев\n",
    "    'min_samples_split': [2, 5, 10],  # Минимальное количество образцов, необходимых для разделения внутреннего узла\n",
    "    'min_samples_leaf': [1, 2, 4],\n",
    "    'bootstrap': [True, False]\n",
    "}\n",
    "grid = HalvingGridSearchCV(estimator=forest, param_grid = param_dist_forest, cv = 3, n_jobs=-1)\n",
    "grid.fit(X_train, y_train)"
   ]
  },
  {
   "cell_type": "code",
   "execution_count": 34,
   "id": "202d50a2",
   "metadata": {},
   "outputs": [
    {
     "ename": "NameError",
     "evalue": "name 'grid' is not defined",
     "output_type": "error",
     "traceback": [
      "\u001b[1;31m---------------------------------------------------------------------------\u001b[0m",
      "\u001b[1;31mNameError\u001b[0m                                 Traceback (most recent call last)",
      "Cell \u001b[1;32mIn[34], line 1\u001b[0m\n\u001b[1;32m----> 1\u001b[0m grid\u001b[38;5;241m.\u001b[39mbest_score_\n",
      "\u001b[1;31mNameError\u001b[0m: name 'grid' is not defined"
     ]
    }
   ],
   "source": [
    "grid.best_score_"
   ]
  },
  {
   "cell_type": "code",
   "execution_count": 21,
   "id": "1fd12980",
   "metadata": {},
   "outputs": [
    {
     "data": {
      "text/plain": [
       "{'max_depth': None, 'min_samples_split': 2, 'n_estimators': 150}"
      ]
     },
     "execution_count": 21,
     "metadata": {},
     "output_type": "execute_result"
    }
   ],
   "source": [
    "grid.best_params_"
   ]
  },
  {
   "cell_type": "markdown",
   "id": "d69e394a",
   "metadata": {},
   "source": [
    "## 4. Write Pipeline For Data Preparation and Prediction"
   ]
  },
  {
   "cell_type": "code",
   "execution_count": null,
   "id": "26e34612",
   "metadata": {},
   "outputs": [],
   "source": []
  },
  {
   "cell_type": "code",
   "execution_count": null,
   "id": "6078bfbc",
   "metadata": {},
   "outputs": [],
   "source": []
  },
  {
   "cell_type": "code",
   "execution_count": null,
   "id": "6752ee95",
   "metadata": {},
   "outputs": [],
   "source": []
  },
  {
   "cell_type": "markdown",
   "id": "d405538c",
   "metadata": {},
   "source": [
    "## 5. Predict Test Data"
   ]
  },
  {
   "cell_type": "markdown",
   "id": "bc3b59e2",
   "metadata": {},
   "source": [
    "### Read and Prepare test data using your pipeline"
   ]
  },
  {
   "cell_type": "code",
   "execution_count": 30,
   "id": "1ca882de",
   "metadata": {},
   "outputs": [],
   "source": [
    "df_test = pd.read_csv(\"satisfaction_test.csv\")"
   ]
  },
  {
   "cell_type": "code",
   "execution_count": 38,
   "id": "67f869d9",
   "metadata": {},
   "outputs": [
    {
     "data": {
      "text/html": [
       "<div>\n",
       "<style scoped>\n",
       "    .dataframe tbody tr th:only-of-type {\n",
       "        vertical-align: middle;\n",
       "    }\n",
       "\n",
       "    .dataframe tbody tr th {\n",
       "        vertical-align: top;\n",
       "    }\n",
       "\n",
       "    .dataframe thead th {\n",
       "        text-align: right;\n",
       "    }\n",
       "</style>\n",
       "<table border=\"1\" class=\"dataframe\">\n",
       "  <thead>\n",
       "    <tr style=\"text-align: right;\">\n",
       "      <th></th>\n",
       "      <th>Gender</th>\n",
       "      <th>Customer Type</th>\n",
       "      <th>Age</th>\n",
       "      <th>Type of Travel</th>\n",
       "      <th>Class</th>\n",
       "      <th>Flight Distance</th>\n",
       "      <th>Inflight wifi service</th>\n",
       "      <th>Departure/Arrival time convenient</th>\n",
       "      <th>Ease of Online booking</th>\n",
       "      <th>Gate location</th>\n",
       "      <th>...</th>\n",
       "      <th>Seat comfort</th>\n",
       "      <th>Inflight entertainment</th>\n",
       "      <th>On-board service</th>\n",
       "      <th>Leg room service</th>\n",
       "      <th>Baggage handling</th>\n",
       "      <th>Checkin service</th>\n",
       "      <th>Inflight service</th>\n",
       "      <th>Cleanliness</th>\n",
       "      <th>Departure Delay in Minutes</th>\n",
       "      <th>Arrival Delay in Minutes</th>\n",
       "    </tr>\n",
       "  </thead>\n",
       "  <tbody>\n",
       "    <tr>\n",
       "      <th>0</th>\n",
       "      <td>Female</td>\n",
       "      <td>Loyal Customer</td>\n",
       "      <td>31</td>\n",
       "      <td>Business travel</td>\n",
       "      <td>Business</td>\n",
       "      <td>1669</td>\n",
       "      <td>1</td>\n",
       "      <td>1</td>\n",
       "      <td>1</td>\n",
       "      <td>1</td>\n",
       "      <td>...</td>\n",
       "      <td>4</td>\n",
       "      <td>4</td>\n",
       "      <td>3</td>\n",
       "      <td>2</td>\n",
       "      <td>5</td>\n",
       "      <td>3</td>\n",
       "      <td>4</td>\n",
       "      <td>4</td>\n",
       "      <td>2</td>\n",
       "      <td>14.0</td>\n",
       "    </tr>\n",
       "    <tr>\n",
       "      <th>1</th>\n",
       "      <td>Male</td>\n",
       "      <td>Loyal Customer</td>\n",
       "      <td>38</td>\n",
       "      <td>Business travel</td>\n",
       "      <td>Eco</td>\n",
       "      <td>397</td>\n",
       "      <td>5</td>\n",
       "      <td>4</td>\n",
       "      <td>4</td>\n",
       "      <td>4</td>\n",
       "      <td>...</td>\n",
       "      <td>5</td>\n",
       "      <td>5</td>\n",
       "      <td>4</td>\n",
       "      <td>5</td>\n",
       "      <td>4</td>\n",
       "      <td>3</td>\n",
       "      <td>2</td>\n",
       "      <td>5</td>\n",
       "      <td>0</td>\n",
       "      <td>0.0</td>\n",
       "    </tr>\n",
       "    <tr>\n",
       "      <th>2</th>\n",
       "      <td>Female</td>\n",
       "      <td>Loyal Customer</td>\n",
       "      <td>69</td>\n",
       "      <td>Personal Travel</td>\n",
       "      <td>Eco</td>\n",
       "      <td>2296</td>\n",
       "      <td>3</td>\n",
       "      <td>5</td>\n",
       "      <td>4</td>\n",
       "      <td>3</td>\n",
       "      <td>...</td>\n",
       "      <td>5</td>\n",
       "      <td>3</td>\n",
       "      <td>3</td>\n",
       "      <td>4</td>\n",
       "      <td>3</td>\n",
       "      <td>4</td>\n",
       "      <td>3</td>\n",
       "      <td>3</td>\n",
       "      <td>0</td>\n",
       "      <td>0.0</td>\n",
       "    </tr>\n",
       "    <tr>\n",
       "      <th>3</th>\n",
       "      <td>Male</td>\n",
       "      <td>Loyal Customer</td>\n",
       "      <td>64</td>\n",
       "      <td>Business travel</td>\n",
       "      <td>Business</td>\n",
       "      <td>406</td>\n",
       "      <td>1</td>\n",
       "      <td>1</td>\n",
       "      <td>1</td>\n",
       "      <td>1</td>\n",
       "      <td>...</td>\n",
       "      <td>4</td>\n",
       "      <td>5</td>\n",
       "      <td>5</td>\n",
       "      <td>5</td>\n",
       "      <td>5</td>\n",
       "      <td>3</td>\n",
       "      <td>5</td>\n",
       "      <td>3</td>\n",
       "      <td>23</td>\n",
       "      <td>17.0</td>\n",
       "    </tr>\n",
       "    <tr>\n",
       "      <th>4</th>\n",
       "      <td>Male</td>\n",
       "      <td>Loyal Customer</td>\n",
       "      <td>47</td>\n",
       "      <td>Business travel</td>\n",
       "      <td>Business</td>\n",
       "      <td>2022</td>\n",
       "      <td>5</td>\n",
       "      <td>5</td>\n",
       "      <td>5</td>\n",
       "      <td>5</td>\n",
       "      <td>...</td>\n",
       "      <td>5</td>\n",
       "      <td>4</td>\n",
       "      <td>4</td>\n",
       "      <td>4</td>\n",
       "      <td>4</td>\n",
       "      <td>5</td>\n",
       "      <td>4</td>\n",
       "      <td>3</td>\n",
       "      <td>0</td>\n",
       "      <td>NaN</td>\n",
       "    </tr>\n",
       "    <tr>\n",
       "      <th>...</th>\n",
       "      <td>...</td>\n",
       "      <td>...</td>\n",
       "      <td>...</td>\n",
       "      <td>...</td>\n",
       "      <td>...</td>\n",
       "      <td>...</td>\n",
       "      <td>...</td>\n",
       "      <td>...</td>\n",
       "      <td>...</td>\n",
       "      <td>...</td>\n",
       "      <td>...</td>\n",
       "      <td>...</td>\n",
       "      <td>...</td>\n",
       "      <td>...</td>\n",
       "      <td>...</td>\n",
       "      <td>...</td>\n",
       "      <td>...</td>\n",
       "      <td>...</td>\n",
       "      <td>...</td>\n",
       "      <td>...</td>\n",
       "      <td>...</td>\n",
       "    </tr>\n",
       "    <tr>\n",
       "      <th>23899</th>\n",
       "      <td>Female</td>\n",
       "      <td>Loyal Customer</td>\n",
       "      <td>69</td>\n",
       "      <td>Business travel</td>\n",
       "      <td>Business</td>\n",
       "      <td>1938</td>\n",
       "      <td>4</td>\n",
       "      <td>2</td>\n",
       "      <td>2</td>\n",
       "      <td>2</td>\n",
       "      <td>...</td>\n",
       "      <td>1</td>\n",
       "      <td>4</td>\n",
       "      <td>4</td>\n",
       "      <td>4</td>\n",
       "      <td>4</td>\n",
       "      <td>1</td>\n",
       "      <td>4</td>\n",
       "      <td>4</td>\n",
       "      <td>0</td>\n",
       "      <td>14.0</td>\n",
       "    </tr>\n",
       "    <tr>\n",
       "      <th>23900</th>\n",
       "      <td>Male</td>\n",
       "      <td>Loyal Customer</td>\n",
       "      <td>61</td>\n",
       "      <td>Business travel</td>\n",
       "      <td>Eco</td>\n",
       "      <td>1185</td>\n",
       "      <td>2</td>\n",
       "      <td>2</td>\n",
       "      <td>2</td>\n",
       "      <td>2</td>\n",
       "      <td>...</td>\n",
       "      <td>2</td>\n",
       "      <td>2</td>\n",
       "      <td>1</td>\n",
       "      <td>1</td>\n",
       "      <td>4</td>\n",
       "      <td>2</td>\n",
       "      <td>4</td>\n",
       "      <td>2</td>\n",
       "      <td>18</td>\n",
       "      <td>0.0</td>\n",
       "    </tr>\n",
       "    <tr>\n",
       "      <th>23901</th>\n",
       "      <td>Male</td>\n",
       "      <td>Loyal Customer</td>\n",
       "      <td>30</td>\n",
       "      <td>Business travel</td>\n",
       "      <td>Business</td>\n",
       "      <td>3375</td>\n",
       "      <td>4</td>\n",
       "      <td>4</td>\n",
       "      <td>4</td>\n",
       "      <td>4</td>\n",
       "      <td>...</td>\n",
       "      <td>5</td>\n",
       "      <td>5</td>\n",
       "      <td>3</td>\n",
       "      <td>1</td>\n",
       "      <td>2</td>\n",
       "      <td>2</td>\n",
       "      <td>3</td>\n",
       "      <td>5</td>\n",
       "      <td>101</td>\n",
       "      <td>97.0</td>\n",
       "    </tr>\n",
       "    <tr>\n",
       "      <th>23902</th>\n",
       "      <td>Female</td>\n",
       "      <td>Loyal Customer</td>\n",
       "      <td>23</td>\n",
       "      <td>Business travel</td>\n",
       "      <td>Business</td>\n",
       "      <td>628</td>\n",
       "      <td>2</td>\n",
       "      <td>3</td>\n",
       "      <td>3</td>\n",
       "      <td>3</td>\n",
       "      <td>...</td>\n",
       "      <td>2</td>\n",
       "      <td>2</td>\n",
       "      <td>4</td>\n",
       "      <td>4</td>\n",
       "      <td>4</td>\n",
       "      <td>2</td>\n",
       "      <td>3</td>\n",
       "      <td>2</td>\n",
       "      <td>30</td>\n",
       "      <td>22.0</td>\n",
       "    </tr>\n",
       "    <tr>\n",
       "      <th>23903</th>\n",
       "      <td>Female</td>\n",
       "      <td>Loyal Customer</td>\n",
       "      <td>55</td>\n",
       "      <td>Business travel</td>\n",
       "      <td>Business</td>\n",
       "      <td>954</td>\n",
       "      <td>2</td>\n",
       "      <td>3</td>\n",
       "      <td>2</td>\n",
       "      <td>3</td>\n",
       "      <td>...</td>\n",
       "      <td>2</td>\n",
       "      <td>2</td>\n",
       "      <td>2</td>\n",
       "      <td>2</td>\n",
       "      <td>2</td>\n",
       "      <td>1</td>\n",
       "      <td>2</td>\n",
       "      <td>2</td>\n",
       "      <td>0</td>\n",
       "      <td>10.0</td>\n",
       "    </tr>\n",
       "  </tbody>\n",
       "</table>\n",
       "<p>23904 rows × 22 columns</p>\n",
       "</div>"
      ],
      "text/plain": [
       "       Gender   Customer Type  Age   Type of Travel     Class  \\\n",
       "0      Female  Loyal Customer   31  Business travel  Business   \n",
       "1        Male  Loyal Customer   38  Business travel       Eco   \n",
       "2      Female  Loyal Customer   69  Personal Travel       Eco   \n",
       "3        Male  Loyal Customer   64  Business travel  Business   \n",
       "4        Male  Loyal Customer   47  Business travel  Business   \n",
       "...       ...             ...  ...              ...       ...   \n",
       "23899  Female  Loyal Customer   69  Business travel  Business   \n",
       "23900    Male  Loyal Customer   61  Business travel       Eco   \n",
       "23901    Male  Loyal Customer   30  Business travel  Business   \n",
       "23902  Female  Loyal Customer   23  Business travel  Business   \n",
       "23903  Female  Loyal Customer   55  Business travel  Business   \n",
       "\n",
       "       Flight Distance  Inflight wifi service  \\\n",
       "0                 1669                      1   \n",
       "1                  397                      5   \n",
       "2                 2296                      3   \n",
       "3                  406                      1   \n",
       "4                 2022                      5   \n",
       "...                ...                    ...   \n",
       "23899             1938                      4   \n",
       "23900             1185                      2   \n",
       "23901             3375                      4   \n",
       "23902              628                      2   \n",
       "23903              954                      2   \n",
       "\n",
       "       Departure/Arrival time convenient  Ease of Online booking  \\\n",
       "0                                      1                       1   \n",
       "1                                      4                       4   \n",
       "2                                      5                       4   \n",
       "3                                      1                       1   \n",
       "4                                      5                       5   \n",
       "...                                  ...                     ...   \n",
       "23899                                  2                       2   \n",
       "23900                                  2                       2   \n",
       "23901                                  4                       4   \n",
       "23902                                  3                       3   \n",
       "23903                                  3                       2   \n",
       "\n",
       "       Gate location  ...  Seat comfort  Inflight entertainment  \\\n",
       "0                  1  ...             4                       4   \n",
       "1                  4  ...             5                       5   \n",
       "2                  3  ...             5                       3   \n",
       "3                  1  ...             4                       5   \n",
       "4                  5  ...             5                       4   \n",
       "...              ...  ...           ...                     ...   \n",
       "23899              2  ...             1                       4   \n",
       "23900              2  ...             2                       2   \n",
       "23901              4  ...             5                       5   \n",
       "23902              3  ...             2                       2   \n",
       "23903              3  ...             2                       2   \n",
       "\n",
       "       On-board service  Leg room service  Baggage handling  Checkin service  \\\n",
       "0                     3                 2                 5                3   \n",
       "1                     4                 5                 4                3   \n",
       "2                     3                 4                 3                4   \n",
       "3                     5                 5                 5                3   \n",
       "4                     4                 4                 4                5   \n",
       "...                 ...               ...               ...              ...   \n",
       "23899                 4                 4                 4                1   \n",
       "23900                 1                 1                 4                2   \n",
       "23901                 3                 1                 2                2   \n",
       "23902                 4                 4                 4                2   \n",
       "23903                 2                 2                 2                1   \n",
       "\n",
       "       Inflight service  Cleanliness  Departure Delay in Minutes  \\\n",
       "0                     4            4                           2   \n",
       "1                     2            5                           0   \n",
       "2                     3            3                           0   \n",
       "3                     5            3                          23   \n",
       "4                     4            3                           0   \n",
       "...                 ...          ...                         ...   \n",
       "23899                 4            4                           0   \n",
       "23900                 4            2                          18   \n",
       "23901                 3            5                         101   \n",
       "23902                 3            2                          30   \n",
       "23903                 2            2                           0   \n",
       "\n",
       "       Arrival Delay in Minutes  \n",
       "0                          14.0  \n",
       "1                           0.0  \n",
       "2                           0.0  \n",
       "3                          17.0  \n",
       "4                           NaN  \n",
       "...                         ...  \n",
       "23899                      14.0  \n",
       "23900                       0.0  \n",
       "23901                      97.0  \n",
       "23902                      22.0  \n",
       "23903                      10.0  \n",
       "\n",
       "[23904 rows x 22 columns]"
      ]
     },
     "execution_count": 38,
     "metadata": {},
     "output_type": "execute_result"
    }
   ],
   "source": [
    "df_test"
   ]
  },
  {
   "cell_type": "code",
   "execution_count": 37,
   "id": "decc6dde",
   "metadata": {},
   "outputs": [],
   "source": [
    "df_test.drop(['id'], axis=1, inplace=True)"
   ]
  },
  {
   "cell_type": "code",
   "execution_count": 44,
   "id": "7c8920e3",
   "metadata": {},
   "outputs": [],
   "source": [
    "df_test = pipeline(df_test)"
   ]
  },
  {
   "cell_type": "markdown",
   "id": "65f66da6",
   "metadata": {},
   "source": [
    "### Make a prediction using your best model:"
   ]
  },
  {
   "cell_type": "code",
   "execution_count": 45,
   "id": "9d13ddbb",
   "metadata": {},
   "outputs": [],
   "source": [
    "predictions = pd.DataFrame(forest.predict(df_test), columns=['satisfaction'])"
   ]
  },
  {
   "cell_type": "code",
   "execution_count": 46,
   "id": "97be2ee6",
   "metadata": {},
   "outputs": [
    {
     "data": {
      "text/html": [
       "<div>\n",
       "<style scoped>\n",
       "    .dataframe tbody tr th:only-of-type {\n",
       "        vertical-align: middle;\n",
       "    }\n",
       "\n",
       "    .dataframe tbody tr th {\n",
       "        vertical-align: top;\n",
       "    }\n",
       "\n",
       "    .dataframe thead th {\n",
       "        text-align: right;\n",
       "    }\n",
       "</style>\n",
       "<table border=\"1\" class=\"dataframe\">\n",
       "  <thead>\n",
       "    <tr style=\"text-align: right;\">\n",
       "      <th></th>\n",
       "      <th>satisfaction</th>\n",
       "    </tr>\n",
       "  </thead>\n",
       "  <tbody>\n",
       "    <tr>\n",
       "      <th>0</th>\n",
       "      <td>satisfied</td>\n",
       "    </tr>\n",
       "    <tr>\n",
       "      <th>1</th>\n",
       "      <td>satisfied</td>\n",
       "    </tr>\n",
       "    <tr>\n",
       "      <th>2</th>\n",
       "      <td>neutral or dissatisfied</td>\n",
       "    </tr>\n",
       "    <tr>\n",
       "      <th>3</th>\n",
       "      <td>satisfied</td>\n",
       "    </tr>\n",
       "    <tr>\n",
       "      <th>4</th>\n",
       "      <td>satisfied</td>\n",
       "    </tr>\n",
       "    <tr>\n",
       "      <th>...</th>\n",
       "      <td>...</td>\n",
       "    </tr>\n",
       "    <tr>\n",
       "      <th>23899</th>\n",
       "      <td>neutral or dissatisfied</td>\n",
       "    </tr>\n",
       "    <tr>\n",
       "      <th>23900</th>\n",
       "      <td>neutral or dissatisfied</td>\n",
       "    </tr>\n",
       "    <tr>\n",
       "      <th>23901</th>\n",
       "      <td>satisfied</td>\n",
       "    </tr>\n",
       "    <tr>\n",
       "      <th>23902</th>\n",
       "      <td>neutral or dissatisfied</td>\n",
       "    </tr>\n",
       "    <tr>\n",
       "      <th>23903</th>\n",
       "      <td>neutral or dissatisfied</td>\n",
       "    </tr>\n",
       "  </tbody>\n",
       "</table>\n",
       "<p>23904 rows × 1 columns</p>\n",
       "</div>"
      ],
      "text/plain": [
       "                  satisfaction\n",
       "0                    satisfied\n",
       "1                    satisfied\n",
       "2      neutral or dissatisfied\n",
       "3                    satisfied\n",
       "4                    satisfied\n",
       "...                        ...\n",
       "23899  neutral or dissatisfied\n",
       "23900  neutral or dissatisfied\n",
       "23901                satisfied\n",
       "23902  neutral or dissatisfied\n",
       "23903  neutral or dissatisfied\n",
       "\n",
       "[23904 rows x 1 columns]"
      ]
     },
     "execution_count": 46,
     "metadata": {},
     "output_type": "execute_result"
    }
   ],
   "source": [
    "predictions"
   ]
  },
  {
   "cell_type": "code",
   "execution_count": null,
   "id": "7856ecf2",
   "metadata": {},
   "outputs": [],
   "source": []
  },
  {
   "cell_type": "markdown",
   "id": "f03cb867",
   "metadata": {},
   "source": [
    "### Save predictions as `YourName.csv` and submit csv file and this notebook in ecourse\n",
    "\n",
    "HINT: Use `df.to_csv('YourName.csv', index=False)`"
   ]
  },
  {
   "cell_type": "code",
   "execution_count": 47,
   "id": "f9498063",
   "metadata": {},
   "outputs": [],
   "source": [
    "predictions.to_csv('zhunusov_a_sest-1-22.csv', index=False)"
   ]
  },
  {
   "cell_type": "code",
   "execution_count": null,
   "id": "a550a987",
   "metadata": {},
   "outputs": [],
   "source": []
  }
 ],
 "metadata": {
  "kernelspec": {
   "display_name": "Python 3 (ipykernel)",
   "language": "python",
   "name": "python3"
  },
  "language_info": {
   "codemirror_mode": {
    "name": "ipython",
    "version": 3
   },
   "file_extension": ".py",
   "mimetype": "text/x-python",
   "name": "python",
   "nbconvert_exporter": "python",
   "pygments_lexer": "ipython3",
   "version": "3.11.5"
  }
 },
 "nbformat": 4,
 "nbformat_minor": 5
}
