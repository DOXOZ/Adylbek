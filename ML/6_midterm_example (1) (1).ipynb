{
 "cells": [
  {
   "cell_type": "markdown",
   "id": "86a12940",
   "metadata": {},
   "source": [
    "Atalov S. (TSI AUCA)\n",
    "\n",
    "#### Introduction to Machine Learning and Artificial Intelligence\n",
    "\n",
    "---\n",
    "\n",
    "# Midterm Exam 1 Example\n",
    "SEST-22"
   ]
  },
  {
   "cell_type": "markdown",
   "id": "69432a8f",
   "metadata": {},
   "source": [
    "About Company\n",
    "DreamTelecom - a leading telecom company that is experiencing a customer churn problem.\n",
    "\n",
    "#### Problem\n",
    "You need to create a model that will predict customer churn so that we can offer interesting services to them in time."
   ]
  },
  {
   "cell_type": "markdown",
   "id": "5f5e4a5e",
   "metadata": {},
   "source": [
    "## Part 1. Data Analysis"
   ]
  },
  {
   "cell_type": "markdown",
   "id": "5e00a6fb",
   "metadata": {},
   "source": [
    "### 1.1 How many clients are there in each category of the `Churn` variable?"
   ]
  },
  {
   "cell_type": "code",
   "execution_count": 1,
   "id": "e394e8c1",
   "metadata": {},
   "outputs": [],
   "source": [
    "import pandas as pd\n",
    "from sklearn.linear_model import LogisticRegression\n",
    "from sklearn.neighbors import KNeighborsClassifier\n",
    "from sklearn.metrics import accuracy_score\n",
    "from sklearn.model_selection import train_test_split as tts"
   ]
  },
  {
   "cell_type": "code",
   "execution_count": 2,
   "id": "644575e0",
   "metadata": {},
   "outputs": [
    {
     "data": {
      "text/html": [
       "<div>\n",
       "<style scoped>\n",
       "    .dataframe tbody tr th:only-of-type {\n",
       "        vertical-align: middle;\n",
       "    }\n",
       "\n",
       "    .dataframe tbody tr th {\n",
       "        vertical-align: top;\n",
       "    }\n",
       "\n",
       "    .dataframe thead th {\n",
       "        text-align: right;\n",
       "    }\n",
       "</style>\n",
       "<table border=\"1\" class=\"dataframe\">\n",
       "  <thead>\n",
       "    <tr style=\"text-align: right;\">\n",
       "      <th></th>\n",
       "      <th>ClientPeriod</th>\n",
       "      <th>MonthlySpending</th>\n",
       "      <th>TotalSpent</th>\n",
       "      <th>Gender</th>\n",
       "      <th>IsSeniorCitizen</th>\n",
       "      <th>HasPartner</th>\n",
       "      <th>HasChild</th>\n",
       "      <th>HasPhoneService</th>\n",
       "      <th>HasMultiplePhoneNumbers</th>\n",
       "      <th>HasInternetService</th>\n",
       "      <th>HasOnlineSecurityService</th>\n",
       "      <th>HasOnlineBackup</th>\n",
       "      <th>HasDeviceProtection</th>\n",
       "      <th>HasTechSupportAccess</th>\n",
       "      <th>HasOnlineTV</th>\n",
       "      <th>HasMovieSubscription</th>\n",
       "      <th>HasContractPhone</th>\n",
       "      <th>IsBillingPaperless</th>\n",
       "      <th>PaymentMethod</th>\n",
       "      <th>Churn</th>\n",
       "    </tr>\n",
       "  </thead>\n",
       "  <tbody>\n",
       "    <tr>\n",
       "      <th>0</th>\n",
       "      <td>72</td>\n",
       "      <td>98.65</td>\n",
       "      <td>7129.45</td>\n",
       "      <td>Female</td>\n",
       "      <td>0</td>\n",
       "      <td>Yes</td>\n",
       "      <td>Yes</td>\n",
       "      <td>Yes</td>\n",
       "      <td>Yes</td>\n",
       "      <td>Fiber optic</td>\n",
       "      <td>No</td>\n",
       "      <td>Yes</td>\n",
       "      <td>Yes</td>\n",
       "      <td>Yes</td>\n",
       "      <td>No</td>\n",
       "      <td>Yes</td>\n",
       "      <td>Two year</td>\n",
       "      <td>Yes</td>\n",
       "      <td>Bank transfer (automatic)</td>\n",
       "      <td>0</td>\n",
       "    </tr>\n",
       "    <tr>\n",
       "      <th>1</th>\n",
       "      <td>72</td>\n",
       "      <td>84.90</td>\n",
       "      <td>6065.30</td>\n",
       "      <td>Female</td>\n",
       "      <td>0</td>\n",
       "      <td>Yes</td>\n",
       "      <td>No</td>\n",
       "      <td>Yes</td>\n",
       "      <td>Yes</td>\n",
       "      <td>DSL</td>\n",
       "      <td>Yes</td>\n",
       "      <td>No</td>\n",
       "      <td>Yes</td>\n",
       "      <td>Yes</td>\n",
       "      <td>Yes</td>\n",
       "      <td>Yes</td>\n",
       "      <td>Two year</td>\n",
       "      <td>Yes</td>\n",
       "      <td>Bank transfer (automatic)</td>\n",
       "      <td>0</td>\n",
       "    </tr>\n",
       "    <tr>\n",
       "      <th>2</th>\n",
       "      <td>13</td>\n",
       "      <td>44.00</td>\n",
       "      <td>659.35</td>\n",
       "      <td>Male</td>\n",
       "      <td>0</td>\n",
       "      <td>No</td>\n",
       "      <td>Yes</td>\n",
       "      <td>Yes</td>\n",
       "      <td>No</td>\n",
       "      <td>DSL</td>\n",
       "      <td>No</td>\n",
       "      <td>No</td>\n",
       "      <td>No</td>\n",
       "      <td>No</td>\n",
       "      <td>No</td>\n",
       "      <td>No</td>\n",
       "      <td>Month-to-month</td>\n",
       "      <td>No</td>\n",
       "      <td>Mailed check</td>\n",
       "      <td>0</td>\n",
       "    </tr>\n",
       "    <tr>\n",
       "      <th>3</th>\n",
       "      <td>33</td>\n",
       "      <td>20.10</td>\n",
       "      <td>670.35</td>\n",
       "      <td>Female</td>\n",
       "      <td>0</td>\n",
       "      <td>Yes</td>\n",
       "      <td>Yes</td>\n",
       "      <td>Yes</td>\n",
       "      <td>No</td>\n",
       "      <td>No</td>\n",
       "      <td>No internet service</td>\n",
       "      <td>No internet service</td>\n",
       "      <td>No internet service</td>\n",
       "      <td>No internet service</td>\n",
       "      <td>No internet service</td>\n",
       "      <td>No internet service</td>\n",
       "      <td>Two year</td>\n",
       "      <td>No</td>\n",
       "      <td>Mailed check</td>\n",
       "      <td>0</td>\n",
       "    </tr>\n",
       "    <tr>\n",
       "      <th>4</th>\n",
       "      <td>18</td>\n",
       "      <td>95.05</td>\n",
       "      <td>1679.40</td>\n",
       "      <td>Female</td>\n",
       "      <td>0</td>\n",
       "      <td>No</td>\n",
       "      <td>No</td>\n",
       "      <td>Yes</td>\n",
       "      <td>Yes</td>\n",
       "      <td>Fiber optic</td>\n",
       "      <td>No</td>\n",
       "      <td>No</td>\n",
       "      <td>Yes</td>\n",
       "      <td>Yes</td>\n",
       "      <td>No</td>\n",
       "      <td>Yes</td>\n",
       "      <td>Month-to-month</td>\n",
       "      <td>Yes</td>\n",
       "      <td>Bank transfer (automatic)</td>\n",
       "      <td>0</td>\n",
       "    </tr>\n",
       "    <tr>\n",
       "      <th>...</th>\n",
       "      <td>...</td>\n",
       "      <td>...</td>\n",
       "      <td>...</td>\n",
       "      <td>...</td>\n",
       "      <td>...</td>\n",
       "      <td>...</td>\n",
       "      <td>...</td>\n",
       "      <td>...</td>\n",
       "      <td>...</td>\n",
       "      <td>...</td>\n",
       "      <td>...</td>\n",
       "      <td>...</td>\n",
       "      <td>...</td>\n",
       "      <td>...</td>\n",
       "      <td>...</td>\n",
       "      <td>...</td>\n",
       "      <td>...</td>\n",
       "      <td>...</td>\n",
       "      <td>...</td>\n",
       "      <td>...</td>\n",
       "    </tr>\n",
       "    <tr>\n",
       "      <th>3995</th>\n",
       "      <td>45</td>\n",
       "      <td>62.55</td>\n",
       "      <td>2796.45</td>\n",
       "      <td>Female</td>\n",
       "      <td>0</td>\n",
       "      <td>No</td>\n",
       "      <td>No</td>\n",
       "      <td>Yes</td>\n",
       "      <td>No</td>\n",
       "      <td>DSL</td>\n",
       "      <td>Yes</td>\n",
       "      <td>Yes</td>\n",
       "      <td>No</td>\n",
       "      <td>Yes</td>\n",
       "      <td>No</td>\n",
       "      <td>No</td>\n",
       "      <td>One year</td>\n",
       "      <td>Yes</td>\n",
       "      <td>Credit card (automatic)</td>\n",
       "      <td>0</td>\n",
       "    </tr>\n",
       "    <tr>\n",
       "      <th>3996</th>\n",
       "      <td>38</td>\n",
       "      <td>62.30</td>\n",
       "      <td>2354.80</td>\n",
       "      <td>Male</td>\n",
       "      <td>0</td>\n",
       "      <td>No</td>\n",
       "      <td>No</td>\n",
       "      <td>Yes</td>\n",
       "      <td>No</td>\n",
       "      <td>DSL</td>\n",
       "      <td>No</td>\n",
       "      <td>No</td>\n",
       "      <td>Yes</td>\n",
       "      <td>Yes</td>\n",
       "      <td>No</td>\n",
       "      <td>Yes</td>\n",
       "      <td>One year</td>\n",
       "      <td>Yes</td>\n",
       "      <td>Mailed check</td>\n",
       "      <td>1</td>\n",
       "    </tr>\n",
       "    <tr>\n",
       "      <th>3997</th>\n",
       "      <td>71</td>\n",
       "      <td>97.65</td>\n",
       "      <td>6687.85</td>\n",
       "      <td>Male</td>\n",
       "      <td>0</td>\n",
       "      <td>No</td>\n",
       "      <td>No</td>\n",
       "      <td>Yes</td>\n",
       "      <td>Yes</td>\n",
       "      <td>Fiber optic</td>\n",
       "      <td>Yes</td>\n",
       "      <td>No</td>\n",
       "      <td>No</td>\n",
       "      <td>Yes</td>\n",
       "      <td>No</td>\n",
       "      <td>Yes</td>\n",
       "      <td>One year</td>\n",
       "      <td>No</td>\n",
       "      <td>Credit card (automatic)</td>\n",
       "      <td>0</td>\n",
       "    </tr>\n",
       "    <tr>\n",
       "      <th>3998</th>\n",
       "      <td>1</td>\n",
       "      <td>75.45</td>\n",
       "      <td>75.45</td>\n",
       "      <td>Male</td>\n",
       "      <td>0</td>\n",
       "      <td>No</td>\n",
       "      <td>No</td>\n",
       "      <td>Yes</td>\n",
       "      <td>Yes</td>\n",
       "      <td>Fiber optic</td>\n",
       "      <td>No</td>\n",
       "      <td>No</td>\n",
       "      <td>No</td>\n",
       "      <td>No</td>\n",
       "      <td>No</td>\n",
       "      <td>No</td>\n",
       "      <td>Month-to-month</td>\n",
       "      <td>Yes</td>\n",
       "      <td>Electronic check</td>\n",
       "      <td>1</td>\n",
       "    </tr>\n",
       "    <tr>\n",
       "      <th>3999</th>\n",
       "      <td>43</td>\n",
       "      <td>94.50</td>\n",
       "      <td>4156.80</td>\n",
       "      <td>Female</td>\n",
       "      <td>1</td>\n",
       "      <td>Yes</td>\n",
       "      <td>No</td>\n",
       "      <td>Yes</td>\n",
       "      <td>Yes</td>\n",
       "      <td>Fiber optic</td>\n",
       "      <td>Yes</td>\n",
       "      <td>Yes</td>\n",
       "      <td>No</td>\n",
       "      <td>No</td>\n",
       "      <td>Yes</td>\n",
       "      <td>No</td>\n",
       "      <td>Month-to-month</td>\n",
       "      <td>Yes</td>\n",
       "      <td>Electronic check</td>\n",
       "      <td>0</td>\n",
       "    </tr>\n",
       "  </tbody>\n",
       "</table>\n",
       "<p>4000 rows × 20 columns</p>\n",
       "</div>"
      ],
      "text/plain": [
       "      ClientPeriod  MonthlySpending  TotalSpent  Gender  IsSeniorCitizen  \\\n",
       "0               72            98.65     7129.45  Female                0   \n",
       "1               72            84.90     6065.30  Female                0   \n",
       "2               13            44.00      659.35    Male                0   \n",
       "3               33            20.10      670.35  Female                0   \n",
       "4               18            95.05     1679.40  Female                0   \n",
       "...            ...              ...         ...     ...              ...   \n",
       "3995            45            62.55     2796.45  Female                0   \n",
       "3996            38            62.30     2354.80    Male                0   \n",
       "3997            71            97.65     6687.85    Male                0   \n",
       "3998             1            75.45       75.45    Male                0   \n",
       "3999            43            94.50     4156.80  Female                1   \n",
       "\n",
       "     HasPartner HasChild HasPhoneService HasMultiplePhoneNumbers  \\\n",
       "0           Yes      Yes             Yes                     Yes   \n",
       "1           Yes       No             Yes                     Yes   \n",
       "2            No      Yes             Yes                      No   \n",
       "3           Yes      Yes             Yes                      No   \n",
       "4            No       No             Yes                     Yes   \n",
       "...         ...      ...             ...                     ...   \n",
       "3995         No       No             Yes                      No   \n",
       "3996         No       No             Yes                      No   \n",
       "3997         No       No             Yes                     Yes   \n",
       "3998         No       No             Yes                     Yes   \n",
       "3999        Yes       No             Yes                     Yes   \n",
       "\n",
       "     HasInternetService HasOnlineSecurityService      HasOnlineBackup  \\\n",
       "0           Fiber optic                       No                  Yes   \n",
       "1                   DSL                      Yes                   No   \n",
       "2                   DSL                       No                   No   \n",
       "3                    No      No internet service  No internet service   \n",
       "4           Fiber optic                       No                   No   \n",
       "...                 ...                      ...                  ...   \n",
       "3995                DSL                      Yes                  Yes   \n",
       "3996                DSL                       No                   No   \n",
       "3997        Fiber optic                      Yes                   No   \n",
       "3998        Fiber optic                       No                   No   \n",
       "3999        Fiber optic                      Yes                  Yes   \n",
       "\n",
       "      HasDeviceProtection HasTechSupportAccess          HasOnlineTV  \\\n",
       "0                     Yes                  Yes                   No   \n",
       "1                     Yes                  Yes                  Yes   \n",
       "2                      No                   No                   No   \n",
       "3     No internet service  No internet service  No internet service   \n",
       "4                     Yes                  Yes                   No   \n",
       "...                   ...                  ...                  ...   \n",
       "3995                   No                  Yes                   No   \n",
       "3996                  Yes                  Yes                   No   \n",
       "3997                   No                  Yes                   No   \n",
       "3998                   No                   No                   No   \n",
       "3999                   No                   No                  Yes   \n",
       "\n",
       "     HasMovieSubscription HasContractPhone IsBillingPaperless  \\\n",
       "0                     Yes         Two year                Yes   \n",
       "1                     Yes         Two year                Yes   \n",
       "2                      No   Month-to-month                 No   \n",
       "3     No internet service         Two year                 No   \n",
       "4                     Yes   Month-to-month                Yes   \n",
       "...                   ...              ...                ...   \n",
       "3995                   No         One year                Yes   \n",
       "3996                  Yes         One year                Yes   \n",
       "3997                  Yes         One year                 No   \n",
       "3998                   No   Month-to-month                Yes   \n",
       "3999                   No   Month-to-month                Yes   \n",
       "\n",
       "                  PaymentMethod  Churn  \n",
       "0     Bank transfer (automatic)      0  \n",
       "1     Bank transfer (automatic)      0  \n",
       "2                  Mailed check      0  \n",
       "3                  Mailed check      0  \n",
       "4     Bank transfer (automatic)      0  \n",
       "...                         ...    ...  \n",
       "3995    Credit card (automatic)      0  \n",
       "3996               Mailed check      1  \n",
       "3997    Credit card (automatic)      0  \n",
       "3998           Electronic check      1  \n",
       "3999           Electronic check      0  \n",
       "\n",
       "[4000 rows x 20 columns]"
      ]
     },
     "execution_count": 2,
     "metadata": {},
     "output_type": "execute_result"
    }
   ],
   "source": [
    "df = pd.read_csv('train.csv')\n",
    "df"
   ]
  },
  {
   "cell_type": "code",
   "execution_count": 3,
   "id": "a92f70be",
   "metadata": {},
   "outputs": [
    {
     "data": {
      "text/plain": [
       "1035"
      ]
     },
     "execution_count": 3,
     "metadata": {},
     "output_type": "execute_result"
    }
   ],
   "source": [
    "df [ df['Churn'] ==1 ].shape[0]"
   ]
  },
  {
   "cell_type": "markdown",
   "id": "8eef890d",
   "metadata": {},
   "source": [
    "### 1.2 What is the proportion of each gender in the dataset?"
   ]
  },
  {
   "cell_type": "code",
   "execution_count": 4,
   "id": "4c145ac5",
   "metadata": {},
   "outputs": [
    {
     "data": {
      "text/plain": [
       "Gender\n",
       "Female    0.501001\n",
       "Male      0.498999\n",
       "Name: proportion, dtype: float64"
      ]
     },
     "execution_count": 4,
     "metadata": {},
     "output_type": "execute_result"
    }
   ],
   "source": [
    "df['Gender'].value_counts(1)"
   ]
  },
  {
   "cell_type": "markdown",
   "id": "27282854",
   "metadata": {},
   "source": [
    "### 1.3 What percentage of the customers are `IsSeniorCitizen`?"
   ]
  },
  {
   "cell_type": "code",
   "execution_count": 15,
   "id": "f0f14c61",
   "metadata": {},
   "outputs": [
    {
     "name": "stdout",
     "output_type": "stream",
     "text": [
      " The percentage of Senior citizens: 16.400000000000002\n"
     ]
    }
   ],
   "source": [
    "print(f\" The percentage of Senior citizens: {df['IsSeniorCitizen'].value_counts(1)[1]*100}\")\n"
   ]
  },
  {
   "cell_type": "markdown",
   "id": "8518cbb4",
   "metadata": {},
   "source": [
    "### 1.4 What are the churn rates for different `PaymentMethod` categories?"
   ]
  },
  {
   "cell_type": "code",
   "execution_count": 6,
   "id": "693bde00",
   "metadata": {},
   "outputs": [
    {
     "data": {
      "text/plain": [
       "PaymentMethod\n",
       "Bank transfer (automatic)     876\n",
       "Credit card (automatic)       875\n",
       "Electronic check             1353\n",
       "Mailed check                  896\n",
       "Name: Churn, dtype: int64"
      ]
     },
     "execution_count": 6,
     "metadata": {},
     "output_type": "execute_result"
    }
   ],
   "source": [
    "df.groupby('PaymentMethod')['Churn'].size()"
   ]
  },
  {
   "cell_type": "code",
   "execution_count": null,
   "id": "50394942",
   "metadata": {},
   "outputs": [],
   "source": []
  },
  {
   "cell_type": "markdown",
   "id": "d4afc643",
   "metadata": {},
   "source": [
    "### 1.5 Compare the average `TotalSpent` between customers who have and have not churned."
   ]
  },
  {
   "cell_type": "code",
   "execution_count": 7,
   "id": "461c4b08",
   "metadata": {},
   "outputs": [
    {
     "name": "stdout",
     "output_type": "stream",
     "text": [
      " Customers, who have churned: 1557.3058937198068\n",
      " Customers, who have not churned: 2588.1086066959756\n"
     ]
    }
   ],
   "source": [
    "churn_true = df [ df['Churn'] == 1]\n",
    "churn_false = df [ df['Churn'] == 0]\n",
    "\n",
    "print(f\" Customers, who have churned: {churn_true['TotalSpent'].mean()}\")\n",
    "print(f\" Customers, who have not churned: {churn_false['TotalSpent'].mean()}\")"
   ]
  },
  {
   "cell_type": "markdown",
   "id": "b9569fb8",
   "metadata": {},
   "source": [
    "## Part 2. Machine Learning"
   ]
  },
  {
   "cell_type": "markdown",
   "id": "5f10eebf",
   "metadata": {},
   "source": [
    "### 2.1. Data Preparing"
   ]
  },
  {
   "cell_type": "markdown",
   "id": "7792e3f8",
   "metadata": {},
   "source": [
    "#### 2.1.1. Delete unnecessary columns"
   ]
  },
  {
   "cell_type": "code",
   "execution_count": 8,
   "id": "24be8711",
   "metadata": {},
   "outputs": [
    {
     "data": {
      "text/plain": [
       "ClientPeriod                                    0\n",
       "MonthlySpending                                 0\n",
       "TotalSpent                                      0\n",
       "Gender                                          0\n",
       "IsSeniorCitizen                                 0\n",
       "HasPartner                                      0\n",
       "HasChild                                        0\n",
       "HasPhoneService                                 0\n",
       "IsBillingPaperless                              0\n",
       "Churn                                           0\n",
       "HasMultiplePhoneNumbers_No                      0\n",
       "HasMultiplePhoneNumbers_No phone service        0\n",
       "HasMultiplePhoneNumbers_Yes                     0\n",
       "HasInternetService_DSL                          0\n",
       "HasInternetService_Fiber optic                  0\n",
       "HasInternetService_No                           0\n",
       "HasOnlineSecurityService_No                     0\n",
       "HasOnlineSecurityService_No internet service    0\n",
       "HasOnlineSecurityService_Yes                    0\n",
       "HasOnlineBackup_No                              0\n",
       "HasOnlineBackup_No internet service             0\n",
       "HasOnlineBackup_Yes                             0\n",
       "HasDeviceProtection_No                          0\n",
       "HasDeviceProtection_No internet service         0\n",
       "HasDeviceProtection_Yes                         0\n",
       "PaymentMethod_Bank transfer (automatic)         0\n",
       "PaymentMethod_Credit card (automatic)           0\n",
       "PaymentMethod_Electronic check                  0\n",
       "PaymentMethod_Mailed check                      0\n",
       "HasContractPhone_Month-to-month                 0\n",
       "HasContractPhone_One year                       0\n",
       "HasContractPhone_Two year                       0\n",
       "HasMovieSubscription_No                         0\n",
       "HasMovieSubscription_No internet service        0\n",
       "HasMovieSubscription_Yes                        0\n",
       "HasOnlineTV_No                                  0\n",
       "HasOnlineTV_No internet service                 0\n",
       "HasOnlineTV_Yes                                 0\n",
       "HasTechSupportAccess_No                         0\n",
       "HasTechSupportAccess_No internet service        0\n",
       "HasTechSupportAccess_Yes                        0\n",
       "dtype: int64"
      ]
     },
     "execution_count": 8,
     "metadata": {},
     "output_type": "execute_result"
    }
   ],
   "source": [
    "df['HasPartner'].replace({'Yes': 1, 'No': 0}, inplace=True)\n",
    "df['HasPhoneService'].replace({'Yes': 1, 'No': 0}, inplace=True)\n",
    "df['HasChild'].replace({'Yes': 1, 'No': 0}, inplace=True)\n",
    "df['IsBillingPaperless'].replace({'Yes': 1, 'No': 0}, inplace=True)\n",
    "df['Gender'].replace({'Male': 1, 'Female': 0}, inplace=True)\n",
    "df['TotalSpent'].fillna(df['TotalSpent'].mean(), inplace=True)\n",
    "df['Gender'].fillna(df['Gender'].mean().round(), inplace=True)\n",
    "\n",
    "\n",
    "df = pd.get_dummies(df, columns=['HasMultiplePhoneNumbers'])\n",
    "df = pd.get_dummies(df, columns=['HasInternetService'])\n",
    "df = pd.get_dummies(df, columns=['HasOnlineSecurityService'])\n",
    "df = pd.get_dummies(df, columns=['HasOnlineBackup'])\n",
    "df = pd.get_dummies(df, columns=['HasDeviceProtection'])\n",
    "df = pd.get_dummies(df, columns=['PaymentMethod'])\n",
    "df = pd.get_dummies(df, columns=['HasContractPhone'])\n",
    "df = pd.get_dummies(df, columns=['HasMovieSubscription'])\n",
    "df = pd.get_dummies(df, columns=['HasOnlineTV'])\n",
    "df = pd.get_dummies(df, columns=['HasTechSupportAccess'])\n",
    "\n",
    "df.isnull().sum()"
   ]
  },
  {
   "cell_type": "markdown",
   "id": "df537d1e",
   "metadata": {},
   "source": [
    "#### 2.1.2. Fill in the missing values"
   ]
  },
  {
   "cell_type": "code",
   "execution_count": 9,
   "id": "ee5ef832",
   "metadata": {},
   "outputs": [
    {
     "name": "stdout",
     "output_type": "stream",
     "text": [
      "<class 'pandas.core.frame.DataFrame'>\n",
      "RangeIndex: 4000 entries, 0 to 3999\n",
      "Data columns (total 41 columns):\n",
      " #   Column                                        Non-Null Count  Dtype  \n",
      "---  ------                                        --------------  -----  \n",
      " 0   ClientPeriod                                  4000 non-null   int64  \n",
      " 1   MonthlySpending                               4000 non-null   float64\n",
      " 2   TotalSpent                                    4000 non-null   float64\n",
      " 3   Gender                                        4000 non-null   float64\n",
      " 4   IsSeniorCitizen                               4000 non-null   int64  \n",
      " 5   HasPartner                                    4000 non-null   int64  \n",
      " 6   HasChild                                      4000 non-null   int64  \n",
      " 7   HasPhoneService                               4000 non-null   int64  \n",
      " 8   IsBillingPaperless                            4000 non-null   int64  \n",
      " 9   Churn                                         4000 non-null   int64  \n",
      " 10  HasMultiplePhoneNumbers_No                    4000 non-null   bool   \n",
      " 11  HasMultiplePhoneNumbers_No phone service      4000 non-null   bool   \n",
      " 12  HasMultiplePhoneNumbers_Yes                   4000 non-null   bool   \n",
      " 13  HasInternetService_DSL                        4000 non-null   bool   \n",
      " 14  HasInternetService_Fiber optic                4000 non-null   bool   \n",
      " 15  HasInternetService_No                         4000 non-null   bool   \n",
      " 16  HasOnlineSecurityService_No                   4000 non-null   bool   \n",
      " 17  HasOnlineSecurityService_No internet service  4000 non-null   bool   \n",
      " 18  HasOnlineSecurityService_Yes                  4000 non-null   bool   \n",
      " 19  HasOnlineBackup_No                            4000 non-null   bool   \n",
      " 20  HasOnlineBackup_No internet service           4000 non-null   bool   \n",
      " 21  HasOnlineBackup_Yes                           4000 non-null   bool   \n",
      " 22  HasDeviceProtection_No                        4000 non-null   bool   \n",
      " 23  HasDeviceProtection_No internet service       4000 non-null   bool   \n",
      " 24  HasDeviceProtection_Yes                       4000 non-null   bool   \n",
      " 25  PaymentMethod_Bank transfer (automatic)       4000 non-null   bool   \n",
      " 26  PaymentMethod_Credit card (automatic)         4000 non-null   bool   \n",
      " 27  PaymentMethod_Electronic check                4000 non-null   bool   \n",
      " 28  PaymentMethod_Mailed check                    4000 non-null   bool   \n",
      " 29  HasContractPhone_Month-to-month               4000 non-null   bool   \n",
      " 30  HasContractPhone_One year                     4000 non-null   bool   \n",
      " 31  HasContractPhone_Two year                     4000 non-null   bool   \n",
      " 32  HasMovieSubscription_No                       4000 non-null   bool   \n",
      " 33  HasMovieSubscription_No internet service      4000 non-null   bool   \n",
      " 34  HasMovieSubscription_Yes                      4000 non-null   bool   \n",
      " 35  HasOnlineTV_No                                4000 non-null   bool   \n",
      " 36  HasOnlineTV_No internet service               4000 non-null   bool   \n",
      " 37  HasOnlineTV_Yes                               4000 non-null   bool   \n",
      " 38  HasTechSupportAccess_No                       4000 non-null   bool   \n",
      " 39  HasTechSupportAccess_No internet service      4000 non-null   bool   \n",
      " 40  HasTechSupportAccess_Yes                      4000 non-null   bool   \n",
      "dtypes: bool(31), float64(3), int64(7)\n",
      "memory usage: 433.7 KB\n"
     ]
    }
   ],
   "source": [
    "df.info()"
   ]
  },
  {
   "cell_type": "markdown",
   "id": "8b054bb9",
   "metadata": {},
   "source": [
    "#### 2.1.3. Categorical values"
   ]
  },
  {
   "cell_type": "code",
   "execution_count": 10,
   "id": "c20f0ee3",
   "metadata": {},
   "outputs": [],
   "source": [
    "X = df.copy()\n",
    "y = X.pop('Churn')"
   ]
  },
  {
   "cell_type": "markdown",
   "id": "ad251cea",
   "metadata": {},
   "source": [
    "#### 2.1.4. Split the data into X and y"
   ]
  },
  {
   "cell_type": "code",
   "execution_count": 11,
   "id": "72846c38",
   "metadata": {},
   "outputs": [],
   "source": [
    "X_train, X_test, y_train, y_test = tts(X,y, test_size=0.2)"
   ]
  },
  {
   "cell_type": "markdown",
   "id": "53bb2126",
   "metadata": {},
   "source": [
    "#### 2.1.5. Split the data into train and test"
   ]
  },
  {
   "cell_type": "code",
   "execution_count": null,
   "id": "68102935",
   "metadata": {},
   "outputs": [],
   "source": []
  },
  {
   "cell_type": "markdown",
   "id": "323da1c0",
   "metadata": {},
   "source": [
    "### 2.2. kNN"
   ]
  },
  {
   "cell_type": "markdown",
   "id": "c2a00192",
   "metadata": {},
   "source": [
    "#### 2.2.1. Fit a kNN Model (sklearn) on train data"
   ]
  },
  {
   "cell_type": "code",
   "execution_count": 12,
   "id": "88771f37",
   "metadata": {},
   "outputs": [
    {
     "data": {
      "text/html": [
       "<style>#sk-container-id-1 {color: black;}#sk-container-id-1 pre{padding: 0;}#sk-container-id-1 div.sk-toggleable {background-color: white;}#sk-container-id-1 label.sk-toggleable__label {cursor: pointer;display: block;width: 100%;margin-bottom: 0;padding: 0.3em;box-sizing: border-box;text-align: center;}#sk-container-id-1 label.sk-toggleable__label-arrow:before {content: \"▸\";float: left;margin-right: 0.25em;color: #696969;}#sk-container-id-1 label.sk-toggleable__label-arrow:hover:before {color: black;}#sk-container-id-1 div.sk-estimator:hover label.sk-toggleable__label-arrow:before {color: black;}#sk-container-id-1 div.sk-toggleable__content {max-height: 0;max-width: 0;overflow: hidden;text-align: left;background-color: #f0f8ff;}#sk-container-id-1 div.sk-toggleable__content pre {margin: 0.2em;color: black;border-radius: 0.25em;background-color: #f0f8ff;}#sk-container-id-1 input.sk-toggleable__control:checked~div.sk-toggleable__content {max-height: 200px;max-width: 100%;overflow: auto;}#sk-container-id-1 input.sk-toggleable__control:checked~label.sk-toggleable__label-arrow:before {content: \"▾\";}#sk-container-id-1 div.sk-estimator input.sk-toggleable__control:checked~label.sk-toggleable__label {background-color: #d4ebff;}#sk-container-id-1 div.sk-label input.sk-toggleable__control:checked~label.sk-toggleable__label {background-color: #d4ebff;}#sk-container-id-1 input.sk-hidden--visually {border: 0;clip: rect(1px 1px 1px 1px);clip: rect(1px, 1px, 1px, 1px);height: 1px;margin: -1px;overflow: hidden;padding: 0;position: absolute;width: 1px;}#sk-container-id-1 div.sk-estimator {font-family: monospace;background-color: #f0f8ff;border: 1px dotted black;border-radius: 0.25em;box-sizing: border-box;margin-bottom: 0.5em;}#sk-container-id-1 div.sk-estimator:hover {background-color: #d4ebff;}#sk-container-id-1 div.sk-parallel-item::after {content: \"\";width: 100%;border-bottom: 1px solid gray;flex-grow: 1;}#sk-container-id-1 div.sk-label:hover label.sk-toggleable__label {background-color: #d4ebff;}#sk-container-id-1 div.sk-serial::before {content: \"\";position: absolute;border-left: 1px solid gray;box-sizing: border-box;top: 0;bottom: 0;left: 50%;z-index: 0;}#sk-container-id-1 div.sk-serial {display: flex;flex-direction: column;align-items: center;background-color: white;padding-right: 0.2em;padding-left: 0.2em;position: relative;}#sk-container-id-1 div.sk-item {position: relative;z-index: 1;}#sk-container-id-1 div.sk-parallel {display: flex;align-items: stretch;justify-content: center;background-color: white;position: relative;}#sk-container-id-1 div.sk-item::before, #sk-container-id-1 div.sk-parallel-item::before {content: \"\";position: absolute;border-left: 1px solid gray;box-sizing: border-box;top: 0;bottom: 0;left: 50%;z-index: -1;}#sk-container-id-1 div.sk-parallel-item {display: flex;flex-direction: column;z-index: 1;position: relative;background-color: white;}#sk-container-id-1 div.sk-parallel-item:first-child::after {align-self: flex-end;width: 50%;}#sk-container-id-1 div.sk-parallel-item:last-child::after {align-self: flex-start;width: 50%;}#sk-container-id-1 div.sk-parallel-item:only-child::after {width: 0;}#sk-container-id-1 div.sk-dashed-wrapped {border: 1px dashed gray;margin: 0 0.4em 0.5em 0.4em;box-sizing: border-box;padding-bottom: 0.4em;background-color: white;}#sk-container-id-1 div.sk-label label {font-family: monospace;font-weight: bold;display: inline-block;line-height: 1.2em;}#sk-container-id-1 div.sk-label-container {text-align: center;}#sk-container-id-1 div.sk-container {/* jupyter's `normalize.less` sets `[hidden] { display: none; }` but bootstrap.min.css set `[hidden] { display: none !important; }` so we also need the `!important` here to be able to override the default hidden behavior on the sphinx rendered scikit-learn.org. See: https://github.com/scikit-learn/scikit-learn/issues/21755 */display: inline-block !important;position: relative;}#sk-container-id-1 div.sk-text-repr-fallback {display: none;}</style><div id=\"sk-container-id-1\" class=\"sk-top-container\"><div class=\"sk-text-repr-fallback\"><pre>KNeighborsClassifier(n_neighbors=201)</pre><b>In a Jupyter environment, please rerun this cell to show the HTML representation or trust the notebook. <br />On GitHub, the HTML representation is unable to render, please try loading this page with nbviewer.org.</b></div><div class=\"sk-container\" hidden><div class=\"sk-item\"><div class=\"sk-estimator sk-toggleable\"><input class=\"sk-toggleable__control sk-hidden--visually\" id=\"sk-estimator-id-1\" type=\"checkbox\" checked><label for=\"sk-estimator-id-1\" class=\"sk-toggleable__label sk-toggleable__label-arrow\">KNeighborsClassifier</label><div class=\"sk-toggleable__content\"><pre>KNeighborsClassifier(n_neighbors=201)</pre></div></div></div></div></div>"
      ],
      "text/plain": [
       "KNeighborsClassifier(n_neighbors=201)"
      ]
     },
     "execution_count": 12,
     "metadata": {},
     "output_type": "execute_result"
    }
   ],
   "source": [
    "knn = KNeighborsClassifier(n_neighbors=201)\n",
    "\n",
    "knn.fit(X_train, y_train)"
   ]
  },
  {
   "cell_type": "markdown",
   "id": "a86b2f7d",
   "metadata": {},
   "source": [
    "#### 2.2.2. Show the score on train and test data"
   ]
  },
  {
   "cell_type": "code",
   "execution_count": 13,
   "id": "c9d8da8f",
   "metadata": {},
   "outputs": [
    {
     "ename": "AttributeError",
     "evalue": "'Flags' object has no attribute 'c_contiguous'",
     "output_type": "error",
     "traceback": [
      "\u001b[1;31m---------------------------------------------------------------------------\u001b[0m",
      "\u001b[1;31mAttributeError\u001b[0m                            Traceback (most recent call last)",
      "Cell \u001b[1;32mIn[13], line 1\u001b[0m\n\u001b[1;32m----> 1\u001b[0m knn\u001b[38;5;241m.\u001b[39mscore(X_train, y_train)\n",
      "File \u001b[1;32mC:\\ProgramData\\anaconda3\\Lib\\site-packages\\sklearn\\base.py:705\u001b[0m, in \u001b[0;36mClassifierMixin.score\u001b[1;34m(self, X, y, sample_weight)\u001b[0m\n\u001b[0;32m    680\u001b[0m \u001b[38;5;250m\u001b[39m\u001b[38;5;124;03m\"\"\"\u001b[39;00m\n\u001b[0;32m    681\u001b[0m \u001b[38;5;124;03mReturn the mean accuracy on the given test data and labels.\u001b[39;00m\n\u001b[0;32m    682\u001b[0m \n\u001b[1;32m   (...)\u001b[0m\n\u001b[0;32m    701\u001b[0m \u001b[38;5;124;03m    Mean accuracy of ``self.predict(X)`` w.r.t. `y`.\u001b[39;00m\n\u001b[0;32m    702\u001b[0m \u001b[38;5;124;03m\"\"\"\u001b[39;00m\n\u001b[0;32m    703\u001b[0m \u001b[38;5;28;01mfrom\u001b[39;00m \u001b[38;5;21;01m.\u001b[39;00m\u001b[38;5;21;01mmetrics\u001b[39;00m \u001b[38;5;28;01mimport\u001b[39;00m accuracy_score\n\u001b[1;32m--> 705\u001b[0m \u001b[38;5;28;01mreturn\u001b[39;00m accuracy_score(y, \u001b[38;5;28mself\u001b[39m\u001b[38;5;241m.\u001b[39mpredict(X), sample_weight\u001b[38;5;241m=\u001b[39msample_weight)\n",
      "File \u001b[1;32mC:\\ProgramData\\anaconda3\\Lib\\site-packages\\sklearn\\neighbors\\_classification.py:246\u001b[0m, in \u001b[0;36mKNeighborsClassifier.predict\u001b[1;34m(self, X)\u001b[0m\n\u001b[0;32m    244\u001b[0m check_is_fitted(\u001b[38;5;28mself\u001b[39m, \u001b[38;5;124m\"\u001b[39m\u001b[38;5;124m_fit_method\u001b[39m\u001b[38;5;124m\"\u001b[39m)\n\u001b[0;32m    245\u001b[0m \u001b[38;5;28;01mif\u001b[39;00m \u001b[38;5;28mself\u001b[39m\u001b[38;5;241m.\u001b[39mweights \u001b[38;5;241m==\u001b[39m \u001b[38;5;124m\"\u001b[39m\u001b[38;5;124muniform\u001b[39m\u001b[38;5;124m\"\u001b[39m:\n\u001b[1;32m--> 246\u001b[0m     \u001b[38;5;28;01mif\u001b[39;00m \u001b[38;5;28mself\u001b[39m\u001b[38;5;241m.\u001b[39m_fit_method \u001b[38;5;241m==\u001b[39m \u001b[38;5;124m\"\u001b[39m\u001b[38;5;124mbrute\u001b[39m\u001b[38;5;124m\"\u001b[39m \u001b[38;5;129;01mand\u001b[39;00m ArgKminClassMode\u001b[38;5;241m.\u001b[39mis_usable_for(\n\u001b[0;32m    247\u001b[0m         X, \u001b[38;5;28mself\u001b[39m\u001b[38;5;241m.\u001b[39m_fit_X, \u001b[38;5;28mself\u001b[39m\u001b[38;5;241m.\u001b[39mmetric\n\u001b[0;32m    248\u001b[0m     ):\n\u001b[0;32m    249\u001b[0m         probabilities \u001b[38;5;241m=\u001b[39m \u001b[38;5;28mself\u001b[39m\u001b[38;5;241m.\u001b[39mpredict_proba(X)\n\u001b[0;32m    250\u001b[0m         \u001b[38;5;28;01mif\u001b[39;00m \u001b[38;5;28mself\u001b[39m\u001b[38;5;241m.\u001b[39moutputs_2d_:\n",
      "File \u001b[1;32mC:\\ProgramData\\anaconda3\\Lib\\site-packages\\sklearn\\metrics\\_pairwise_distances_reduction\\_dispatcher.py:471\u001b[0m, in \u001b[0;36mArgKminClassMode.is_usable_for\u001b[1;34m(cls, X, Y, metric)\u001b[0m\n\u001b[0;32m    448\u001b[0m \u001b[38;5;129m@classmethod\u001b[39m\n\u001b[0;32m    449\u001b[0m \u001b[38;5;28;01mdef\u001b[39;00m \u001b[38;5;21mis_usable_for\u001b[39m(\u001b[38;5;28mcls\u001b[39m, X, Y, metric) \u001b[38;5;241m-\u001b[39m\u001b[38;5;241m>\u001b[39m \u001b[38;5;28mbool\u001b[39m:\n\u001b[0;32m    450\u001b[0m \u001b[38;5;250m    \u001b[39m\u001b[38;5;124;03m\"\"\"Return True if the dispatcher can be used for the given parameters.\u001b[39;00m\n\u001b[0;32m    451\u001b[0m \n\u001b[0;32m    452\u001b[0m \u001b[38;5;124;03m    Parameters\u001b[39;00m\n\u001b[1;32m   (...)\u001b[0m\n\u001b[0;32m    468\u001b[0m \u001b[38;5;124;03m    True if the PairwiseDistancesReduction can be used, else False.\u001b[39;00m\n\u001b[0;32m    469\u001b[0m \u001b[38;5;124;03m    \"\"\"\u001b[39;00m\n\u001b[0;32m    470\u001b[0m     \u001b[38;5;28;01mreturn\u001b[39;00m (\n\u001b[1;32m--> 471\u001b[0m         ArgKmin\u001b[38;5;241m.\u001b[39mis_usable_for(X, Y, metric)\n\u001b[0;32m    472\u001b[0m         \u001b[38;5;66;03m# TODO: Support CSR matrices.\u001b[39;00m\n\u001b[0;32m    473\u001b[0m         \u001b[38;5;129;01mand\u001b[39;00m \u001b[38;5;129;01mnot\u001b[39;00m issparse(X)\n\u001b[0;32m    474\u001b[0m         \u001b[38;5;129;01mand\u001b[39;00m \u001b[38;5;129;01mnot\u001b[39;00m issparse(Y)\n\u001b[0;32m    475\u001b[0m         \u001b[38;5;66;03m# TODO: implement Euclidean specialization with GEMM.\u001b[39;00m\n\u001b[0;32m    476\u001b[0m         \u001b[38;5;129;01mand\u001b[39;00m metric \u001b[38;5;129;01mnot\u001b[39;00m \u001b[38;5;129;01min\u001b[39;00m (\u001b[38;5;124m\"\u001b[39m\u001b[38;5;124meuclidean\u001b[39m\u001b[38;5;124m\"\u001b[39m, \u001b[38;5;124m\"\u001b[39m\u001b[38;5;124msqeuclidean\u001b[39m\u001b[38;5;124m\"\u001b[39m)\n\u001b[0;32m    477\u001b[0m     )\n",
      "File \u001b[1;32mC:\\ProgramData\\anaconda3\\Lib\\site-packages\\sklearn\\metrics\\_pairwise_distances_reduction\\_dispatcher.py:115\u001b[0m, in \u001b[0;36mBaseDistancesReductionDispatcher.is_usable_for\u001b[1;34m(cls, X, Y, metric)\u001b[0m\n\u001b[0;32m    101\u001b[0m \u001b[38;5;28;01mdef\u001b[39;00m \u001b[38;5;21mis_valid_sparse_matrix\u001b[39m(X):\n\u001b[0;32m    102\u001b[0m     \u001b[38;5;28;01mreturn\u001b[39;00m (\n\u001b[0;32m    103\u001b[0m         isspmatrix_csr(X)\n\u001b[0;32m    104\u001b[0m         \u001b[38;5;129;01mand\u001b[39;00m\n\u001b[1;32m   (...)\u001b[0m\n\u001b[0;32m    110\u001b[0m         X\u001b[38;5;241m.\u001b[39mindices\u001b[38;5;241m.\u001b[39mdtype \u001b[38;5;241m==\u001b[39m X\u001b[38;5;241m.\u001b[39mindptr\u001b[38;5;241m.\u001b[39mdtype \u001b[38;5;241m==\u001b[39m np\u001b[38;5;241m.\u001b[39mint32\n\u001b[0;32m    111\u001b[0m     )\n\u001b[0;32m    113\u001b[0m is_usable \u001b[38;5;241m=\u001b[39m (\n\u001b[0;32m    114\u001b[0m     get_config()\u001b[38;5;241m.\u001b[39mget(\u001b[38;5;124m\"\u001b[39m\u001b[38;5;124menable_cython_pairwise_dist\u001b[39m\u001b[38;5;124m\"\u001b[39m, \u001b[38;5;28;01mTrue\u001b[39;00m)\n\u001b[1;32m--> 115\u001b[0m     \u001b[38;5;129;01mand\u001b[39;00m (is_numpy_c_ordered(X) \u001b[38;5;129;01mor\u001b[39;00m is_valid_sparse_matrix(X))\n\u001b[0;32m    116\u001b[0m     \u001b[38;5;129;01mand\u001b[39;00m (is_numpy_c_ordered(Y) \u001b[38;5;129;01mor\u001b[39;00m is_valid_sparse_matrix(Y))\n\u001b[0;32m    117\u001b[0m     \u001b[38;5;129;01mand\u001b[39;00m X\u001b[38;5;241m.\u001b[39mdtype \u001b[38;5;241m==\u001b[39m Y\u001b[38;5;241m.\u001b[39mdtype\n\u001b[0;32m    118\u001b[0m     \u001b[38;5;129;01mand\u001b[39;00m X\u001b[38;5;241m.\u001b[39mdtype \u001b[38;5;129;01min\u001b[39;00m (np\u001b[38;5;241m.\u001b[39mfloat32, np\u001b[38;5;241m.\u001b[39mfloat64)\n\u001b[0;32m    119\u001b[0m     \u001b[38;5;129;01mand\u001b[39;00m metric \u001b[38;5;129;01min\u001b[39;00m \u001b[38;5;28mcls\u001b[39m\u001b[38;5;241m.\u001b[39mvalid_metrics()\n\u001b[0;32m    120\u001b[0m )\n\u001b[0;32m    122\u001b[0m \u001b[38;5;28;01mreturn\u001b[39;00m is_usable\n",
      "File \u001b[1;32mC:\\ProgramData\\anaconda3\\Lib\\site-packages\\sklearn\\metrics\\_pairwise_distances_reduction\\_dispatcher.py:99\u001b[0m, in \u001b[0;36mBaseDistancesReductionDispatcher.is_usable_for.<locals>.is_numpy_c_ordered\u001b[1;34m(X)\u001b[0m\n\u001b[0;32m     98\u001b[0m \u001b[38;5;28;01mdef\u001b[39;00m \u001b[38;5;21mis_numpy_c_ordered\u001b[39m(X):\n\u001b[1;32m---> 99\u001b[0m     \u001b[38;5;28;01mreturn\u001b[39;00m \u001b[38;5;28mhasattr\u001b[39m(X, \u001b[38;5;124m\"\u001b[39m\u001b[38;5;124mflags\u001b[39m\u001b[38;5;124m\"\u001b[39m) \u001b[38;5;129;01mand\u001b[39;00m X\u001b[38;5;241m.\u001b[39mflags\u001b[38;5;241m.\u001b[39mc_contiguous\n",
      "\u001b[1;31mAttributeError\u001b[0m: 'Flags' object has no attribute 'c_contiguous'"
     ]
    }
   ],
   "source": [
    "knn.score(X_train, y_train)"
   ]
  },
  {
   "cell_type": "markdown",
   "id": "12d83315",
   "metadata": {},
   "source": [
    "### 2.3. Logistic Regression"
   ]
  },
  {
   "cell_type": "markdown",
   "id": "0b596af5",
   "metadata": {},
   "source": [
    "#### 2.3.1. Fit a Logistic Regression Model on train data"
   ]
  },
  {
   "cell_type": "code",
   "execution_count": null,
   "id": "6ff0959b",
   "metadata": {},
   "outputs": [],
   "source": [
    "logreg = LogisticRegression()\n",
    "\n",
    "logreg.fit(X_train, y_train)"
   ]
  },
  {
   "cell_type": "markdown",
   "id": "b5f15566",
   "metadata": {},
   "source": [
    "#### 2.3.2. Show the score on train and test data"
   ]
  },
  {
   "cell_type": "code",
   "execution_count": null,
   "id": "3d0101c6",
   "metadata": {},
   "outputs": [],
   "source": [
    "print(f\" Logistic Regression score: {logreg.score(X_train, y_train)}\")\n",
    "print(f\" KNN score: {knn.score(X_train, y_train)}\")\n",
    "\n"
   ]
  },
  {
   "cell_type": "markdown",
   "id": "cc08ca38",
   "metadata": {},
   "source": [
    "### 2.4. New Test Data"
   ]
  },
  {
   "cell_type": "markdown",
   "id": "5d24d16d",
   "metadata": {},
   "source": [
    "#### 2.4.1. Prepare real test data exactly in the same way as training data."
   ]
  },
  {
   "cell_type": "code",
   "execution_count": null,
   "id": "69608ed3",
   "metadata": {},
   "outputs": [],
   "source": [
    "dt = pd.read_csv('test.csv')\n",
    "dt['HasPartner'].replace({'Yes': 1, 'No': 0}, inplace=True)\n",
    "dt['HasPhoneService'].replace({'Yes': 1, 'No': 0}, inplace=True)\n",
    "dt['HasChild'].replace({'Yes': 1, 'No': 0}, inplace=True)\n",
    "dt['IsBillingPaperless'].replace({'Yes': 1, 'No': 0}, inplace=True)\n",
    "dt['Gender'].replace({'Male': 1, 'Female': 0}, inplace=True)\n",
    "dt['TotalSpent'].fillna(dt['TotalSpent'].mean(), inplace=True)\n",
    "dt['Gender'].fillna(dt['Gender'].mean().round(), inplace=True)\n",
    "\n",
    "\n",
    "dt = pd.get_dummies(dt, columns=['HasMultiplePhoneNumbers'])\n",
    "dt = pd.get_dummies(dt, columns=['HasInternetService'])\n",
    "dt = pd.get_dummies(dt, columns=['HasOnlineSecurityService'])\n",
    "dt = pd.get_dummies(dt, columns=['HasOnlineBackup'])\n",
    "dt = pd.get_dummies(dt, columns=['HasDeviceProtection'])\n",
    "dt = pd.get_dummies(dt, columns=['PaymentMethod'])\n",
    "dt = pd.get_dummies(dt, columns=['HasContractPhone'])\n",
    "dt = pd.get_dummies(dt, columns=['HasMovieSubscription'])\n",
    "dt = pd.get_dummies(dt, columns=['HasOnlineTV'])\n",
    "dt = pd.get_dummies(dt, columns=['HasTechSupportAccess'])\n",
    "\n",
    "dt"
   ]
  },
  {
   "cell_type": "code",
   "execution_count": null,
   "id": "77b5918c",
   "metadata": {},
   "outputs": [],
   "source": []
  },
  {
   "cell_type": "code",
   "execution_count": null,
   "id": "972d837f",
   "metadata": {},
   "outputs": [],
   "source": [
    "pred = logreg.predict(dt)\n",
    "pred = pd.DataFrame(pred, columns=['Churn'])\n",
    "pred['UserID'] = [i for i in range(dt.shape[0])]\n",
    "pred = pred[['UserID', 'Churn']]\n",
    "pred\n",
    "\n",
    "\n",
    "\n"
   ]
  },
  {
   "cell_type": "code",
   "execution_count": null,
   "id": "7c24f521",
   "metadata": {},
   "outputs": [],
   "source": [
    "pred.to_csv('premid.csv', index=False)"
   ]
  },
  {
   "cell_type": "markdown",
   "id": "303a630b",
   "metadata": {},
   "source": [
    "#### 2.4.2. Make predictions and save as `csv` file"
   ]
  },
  {
   "cell_type": "code",
   "execution_count": null,
   "id": "861826e0",
   "metadata": {},
   "outputs": [],
   "source": []
  }
 ],
 "metadata": {
  "kernelspec": {
   "display_name": "Python 3 (ipykernel)",
   "language": "python",
   "name": "python3"
  },
  "language_info": {
   "codemirror_mode": {
    "name": "ipython",
    "version": 3
   },
   "file_extension": ".py",
   "mimetype": "text/x-python",
   "name": "python",
   "nbconvert_exporter": "python",
   "pygments_lexer": "ipython3",
   "version": "3.11.5"
  }
 },
 "nbformat": 4,
 "nbformat_minor": 5
}
