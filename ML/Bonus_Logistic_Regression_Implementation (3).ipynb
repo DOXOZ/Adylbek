{
 "cells": [
  {
   "cell_type": "markdown",
   "id": "c0d11c3d",
   "metadata": {},
   "source": [
    "Atalov S.\n",
    "\n",
    "### Fundamentals of Machine Learning and Artificial Intelligence\n",
    "\n",
    "## Logistic Regression Implementation (Bonus)\n",
    "\n",
    "-----"
   ]
  },
  {
   "cell_type": "code",
   "execution_count": 1,
   "id": "b3dae64b",
   "metadata": {},
   "outputs": [],
   "source": [
    "import numpy as np\n",
    "import math"
   ]
  },
  {
   "cell_type": "code",
   "execution_count": 23,
   "id": "55cd4668",
   "metadata": {},
   "outputs": [],
   "source": [
    "class LogisticRegression:\n",
    "    def __init__(self, learning_rate=0.01, n_iterations=1000):\n",
    "        \"\"\"\n",
    "        Constructor for the LogisticRegression.\n",
    "        \"\"\"\n",
    "        # Initialize the learning rate and number of iterations for gradient descent\n",
    "        self.learning_rate = learning_rate\n",
    "        self.n_iterations = n_iterations\n",
    "        # Initialize weights and bias to None; they will be set in the fit method\n",
    "        self.weights = None\n",
    "        self.bias = None\n",
    "\n",
    "    def _sigmoid(self, z):\n",
    "        \"\"\"\n",
    "        Compute the sigmoid of z.\n",
    "\n",
    "        Parameters:\n",
    "        z (np.array): Input array.\n",
    "\n",
    "        Returns:\n",
    "        np.array: The sigmoid of each element in z.\n",
    "        \"\"\"\n",
    "        # Sigmoid function: maps input 'z' to a value between 0 and 1\n",
    "        s = 1 / (1 + np.exp(-z))\n",
    "        return s\n",
    "\n",
    "    def _compute_cost(self, X, y):\n",
    "        # Compute the cost (logistic loss) between actual values 'y' and predictions\n",
    "        m = X.shape[0]\n",
    "        \n",
    "        y_predicted = np.dot(X, self.weights) + self.bias\n",
    "        cost = -1/m * np.sum(y * np.log(y_predicted) + (1 - y) * np.log(1 - y_predicted))\n",
    "        \n",
    "        return cost\n",
    "\n",
    "    def _gradients(self, X, y):\n",
    "        \"\"\"\n",
    "        Compute gradient to update coef.\n",
    "\n",
    "        Parameters:\n",
    "        X (np.array): Training features.\n",
    "        y (np.array): Training labels.\n",
    "\n",
    "        Returns:\n",
    "        tuple: Gradients dw and db.\n",
    "        \"\"\"\n",
    "        n_samples, n_features = X.shape\n",
    "        \n",
    "        y_predicted = np.dot(X, self.weights) + self.bias\n",
    "        \n",
    "        dw = (1 / n_samples) * np.dot(X.T, (y_predicted - y))\n",
    "        db = (1 / n_samples) * np.sum(y_predicted - y)\n",
    "        \n",
    "        return (dw, db)\n",
    "    \n",
    "    def fit(self, X, y):\n",
    "        \"\"\"\n",
    "        Fit the logistic regression model to the training data.\n",
    "\n",
    "        Parameters:\n",
    "        X (np.array): Training features.\n",
    "        y (np.array): Training labels.\n",
    "        \"\"\"\n",
    "        # Fit the logistic regression model to the training data\n",
    "        n_samples, n_features = X.shape\n",
    "        \n",
    "        # Initialize weights and bias to zeros\n",
    "        self.weights = np.zeros(n_features)\n",
    "        self.bias = 0\n",
    "\n",
    "        # Gradient Descent\n",
    "        for _ in range(self.n_iterations):\n",
    "\n",
    "            y_predicted = np.dot(X, self.weights) + self.bias\n",
    "            # Calculate gradients\n",
    "            dw = (1 / n_samples) * np.dot(X.T, (y_predicted - y))\n",
    "            db = (1 / n_samples) * np.sum(y_predicted - y)\n",
    "\n",
    "            # Update weights and bias\n",
    "            self.weights -= self.learning_rate * dw\n",
    "            self.bias -= self.learning_rate * db\n",
    "\n",
    "    def predict(self, X):\n",
    "        \"\"\"\n",
    "        Predict the class labels for the given features.\n",
    "\n",
    "        Parameters:\n",
    "        X (np.array): Features to predict.\n",
    "\n",
    "        Returns:\n",
    "        np.array: Predicted class labels.\n",
    "        \"\"\"\n",
    "        # Make predictions using the learned weights and bias\n",
    "        \n",
    "        \n",
    "        y_predicted = self._sigmoid(np.dot(X, self.weights) + self.bias)\n",
    "        \n",
    "        y_predicted_cls = [1 if i > 0.5 else 0 for i in y_predicted] # Threshold is 0.5\n",
    "        \n",
    "        return np.array(y_predicted_cls)\n",
    "\n",
    "    def accuracy(self, X, y):\n",
    "        \"\"\"\n",
    "        Calculate the accuracy of the model on a given dataset.\n",
    "\n",
    "        Parameters:\n",
    "        X (np.array): Features of the dataset.\n",
    "        y (np.array): True labels of the dataset.\n",
    "\n",
    "        Returns:\n",
    "        float: The accuracy of the model.\n",
    "        \"\"\"\n",
    "        # Calculate the accuracy of the model on a given dataset\n",
    "        y_pred = self.predict(X)\n",
    "        accuracy = np.sum(y == y_pred) / len(y)\n",
    "        return accuracy\n"
   ]
  },
  {
   "cell_type": "code",
   "execution_count": 24,
   "id": "57835a57",
   "metadata": {},
   "outputs": [],
   "source": [
    "from sklearn.model_selection import train_test_split\n",
    "from sklearn.metrics import accuracy_score"
   ]
  },
  {
   "cell_type": "code",
   "execution_count": 25,
   "id": "4f520470",
   "metadata": {},
   "outputs": [],
   "source": [
    "import matplotlib.pyplot as plt"
   ]
  },
  {
   "cell_type": "code",
   "execution_count": 26,
   "id": "35834d85",
   "metadata": {},
   "outputs": [],
   "source": [
    "# Function to generate random data points for two classes\n",
    "def generate_data():\n",
    "    np.random.seed(0)\n",
    "    # Class 0: Random points around (2, 2)\n",
    "    class_0 = np.random.randn(100, 2) + np.array([2, 2])\n",
    "    \n",
    "    # Class 1: Random points around (6, 6)\n",
    "    class_1 = np.random.randn(100, 2) + np.array([6, 6])\n",
    "    \n",
    "    # Combine both classes\n",
    "    data = np.vstack([class_0, class_1])\n",
    "    labels = np.array([0] * 100 + [1] * 100)  # Class labels (0 for class 0, 1 for class 1)\n",
    "    \n",
    "    return data, labels\n",
    "\n",
    "# Generate random data\n",
    "X, y = generate_data()"
   ]
  },
  {
   "cell_type": "code",
   "execution_count": 27,
   "id": "86310d38",
   "metadata": {},
   "outputs": [
    {
     "data": {
      "text/plain": [
       "<matplotlib.collections.PathCollection at 0x16d97b61450>"
      ]
     },
     "execution_count": 27,
     "metadata": {},
     "output_type": "execute_result"
    },
    {
     "data": {
      "image/png": "[encoded data removed]",
      "text/plain": [
       "<Figure size 640x480 with 1 Axes>"
      ]
     },
     "metadata": {},
     "output_type": "display_data"
    }
   ],
   "source": [
    "plt.scatter(X[:,0], X[:, 1], c = y)"
   ]
  },
  {
   "cell_type": "code",
   "execution_count": 28,
   "id": "1cc16de0",
   "metadata": {},
   "outputs": [
    {
     "name": "stdout",
     "output_type": "stream",
     "text": [
      "Accuracy: 0.60\n"
     ]
    }
   ],
   "source": [
    "# Split the dataset into training and test sets\n",
    "X_train, X_test, y_train, y_test = train_test_split(X, y, test_size=0.2, random_state=5)\n",
    "\n",
    "# Create an instance of the LogisticRegression class\n",
    "model = LogisticRegression(learning_rate=0.01, n_iterations=1000)\n",
    "\n",
    "# Train the model on the training set\n",
    "model.fit(X_train, y_train)\n",
    "\n",
    "# Make predictions on the test set\n",
    "y_pred = model.predict(X_test)\n",
    "\n",
    "# Calculate the accuracy\n",
    "accuracy = accuracy_score(y_test, y_pred)\n",
    "print(f\"Accuracy: {accuracy:.2f}\")"
   ]
  },
  {
   "cell_type": "code",
   "execution_count": null,
   "id": "9e53fe5f",
   "metadata": {},
   "outputs": [],
   "source": []
  },
  {
   "cell_type": "code",
   "execution_count": null,
   "id": "7e209119",
   "metadata": {},
   "outputs": [],
   "source": []
  },
  {
   "cell_type": "code",
   "execution_count": null,
   "id": "65130ca4",
   "metadata": {},
   "outputs": [],
   "source": []
  }
 ],
 "metadata": {
  "kernelspec": {
   "display_name": "Python 3 (ipykernel)",
   "language": "python",
   "name": "python3"
  },
  "language_info": {
   "codemirror_mode": {
    "name": "ipython",
    "version": 3
   },
   "file_extension": ".py",
   "mimetype": "text/x-python",
   "name": "python",
   "nbconvert_exporter": "python",
   "pygments_lexer": "ipython3",
   "version": "3.11.5"
  }
 },
 "nbformat": 4,
 "nbformat_minor": 5
}
